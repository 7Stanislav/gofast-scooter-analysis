{
 "cells": [
  {
   "cell_type": "markdown",
   "id": "53641de7",
   "metadata": {},
   "source": [
    "# Исследование сервиса аренды самокатов GoFast\n",
    "В вашем распоряжении данные о пользователях сервиса аренды самокатов GoFast из нескольких городов, включая информацию об их поездках и подписках за определенный период. Сервис предлагает два тарифных плана: бесплатный (free) и платную подписку (ultra), которые отличаются условиями оплаты поездок.\n",
    "\n",
    "<span style=\"font-size:20px\">**Цель исследования**</span>\n",
    "\n",
    "1. Провести статистический анализ поведения пользователей сервиса\n",
    "2. Сравнить показатели пользователей с разными типами подписок\n",
    "3. Проверить ключевые гипотезы для роста бизнеса\n",
    "4. Разработать рекомендации по оптимизации тарифов и маркетинга\n",
    "\n",
    "<span style=\"font-size:20px\">**1. Ход исследования**</span>\n",
    "\n",
    "1. Первичный анализ данных\n",
    "- Загрузка и обзор данных:\n",
    "  - `users_go.csv` - данные о пользователях\n",
    "  - `rides_go.csv` - данные о поездках\n",
    "  - `subscriptions_go.csv` - данные о подписках\n",
    "- Проверка на пропуски и аномалии\n",
    "\n",
    "<span style=\"font-size:20px\">**2. Предобработка данных**</span>\n",
    "- Очистка от выбросов:\n",
    "  - Удаление поездок <100 метров\n",
    "  - Обработка аномальных значений продолжительности\n",
    "- Преобразование типов:\n",
    "  - Дата поездки в datetime\n",
    "  - Создание признака месяца\n",
    "- Удаление дубликатов\n",
    "\n",
    "<span style=\"font-size:20px\">**3. Исследовательский анализ**</span>\n",
    "- Распределение пользователей:\n",
    "  - По городам\n",
    "  - По возрастам\n",
    "  - По типам подписки\n",
    "- Анализ поездок:\n",
    "  - Распределение расстояний\n",
    "  - Распределение продолжительности\n",
    "  - Сезонные колебания\n",
    "\n",
    "<span style=\"font-size:20px\">**4. Проверка гипотез**</span>\n",
    "- Сравнение времени поездок (free vs ultra)\n",
    "- Проверка оптимального расстояния (3130 м)\n",
    "- Анализ выручки по типам подписок\n",
    "\n",
    "<span style=\"font-size:20px\">**5. Маркетинговые расчеты**</span>\n",
    "- Определение количества промокодов для акции\n",
    "- Оценка эффективности push-уведомлений\n",
    "\n",
    "<span style=\"font-size:20px\">**6. Выводы и рекомендации**</span>\n",
    "- Формулировка ключевых выводов\n",
    "- Разработка практических рекомендаций\n",
    "\n",
    "# Описание данных\n",
    "\n",
    "<span style=\"font-size:18px\">**1. users_go.csv**</span>\n",
    "\n",
    "| Поле              | Описание                     |\n",
    "|-------------------|------------------------------|\n",
    "| user_id           | Уникальный идентификатор     |\n",
    "| name              | Имя пользователя             |\n",
    "| age               | Возраст                      |\n",
    "| city              | Город                        |\n",
    "| subscription_type | Тип подписки (free/ultra)    |\n",
    "\n",
    "<span style=\"font-size:18px\">**2. rides_go.csv**</span>\n",
    "\n",
    "| Поле       | Описание                     |\n",
    "|------------|------------------------------|\n",
    "| user_id    | Идентификатор пользователя   |\n",
    "| distance   | Расстояние (метры)           |\n",
    "| duration   | Продолжительность (минуты)   |\n",
    "| date       | Дата поездки                 |\n",
    "\n",
    "<span style=\"font-size:18px\">**3. subscriptions_go.csv**</span>\n",
    "\n",
    "| Поле              | Описание             |\n",
    "|-------------------|----------------------|\n",
    "| subscription_type | Тип подписки         |\n",
    "| minute_price      | Стоимость минуты     |\n",
    "| start_ride_price  | Стоимость старта     |\n",
    "| subscription_fee  | Абонентская плата    |\n",
    "\n",
    "<span style=\"font-size:20px\">**Тарифные планы**</span>\n",
    "\n",
    "<span style=\"font-size:18px\">**Без подписки (free):**</span>\n",
    "- Старт поездки: 50 ₽\n",
    "- Минута поездки: 8 ₽\n",
    "- Без абонплаты\n",
    "\n",
    "<span style=\"font-size:18px\">**Подписка Ultra:**</span>\n",
    "- Старт поездки: бесплатно\n",
    "- Минута поездки: 6 ₽\n",
    "- Абонплата: 199 ₽/мес"
   ]
  },
  {
   "cell_type": "code",
   "execution_count": 1,
   "id": "72576667",
   "metadata": {},
   "outputs": [],
   "source": [
    "import pandas as pd\n",
    "import matplotlib.pyplot as plt\n",
    "import matplotlib.dates as mdates\n",
    "import seaborn as sns\n",
    "import numpy as np\n",
    "from scipy.stats import levene\n",
    "from matplotlib.ticker import PercentFormatter\n",
    "from scipy import stats\n",
    "from scipy.stats import binom\n",
    "from scipy.stats import norm"
   ]
  },
  {
   "cell_type": "markdown",
   "id": "c42cbe00",
   "metadata": {},
   "source": [
    "#### Шаг 1. Загрузка данных"
   ]
  },
  {
   "cell_type": "markdown",
   "id": "9ea97486",
   "metadata": {},
   "source": [
    "##### Считайте CSV-файлы с данными с помощью библиотеки pandas и сохраните их в датафреймы."
   ]
  },
  {
   "cell_type": "code",
   "execution_count": 2,
   "id": "eff9f206",
   "metadata": {},
   "outputs": [],
   "source": [
    "users = pd.read_csv('users_go.csv')\n",
    "rides = pd.read_csv('rides_go.csv')\n",
    "subscriptions = pd.read_csv('subscriptions_go.csv')"
   ]
  },
  {
   "cell_type": "markdown",
   "id": "aa657166",
   "metadata": {},
   "source": [
    "##### Выведите первые строки каждого набора данных. Изучите общую информацию о каждом датафрейме."
   ]
  },
  {
   "cell_type": "code",
   "execution_count": 3,
   "id": "a7367bb1",
   "metadata": {},
   "outputs": [
    {
     "data": {
      "text/html": [
       "<div>\n",
       "<style scoped>\n",
       "    .dataframe tbody tr th:only-of-type {\n",
       "        vertical-align: middle;\n",
       "    }\n",
       "\n",
       "    .dataframe tbody tr th {\n",
       "        vertical-align: top;\n",
       "    }\n",
       "\n",
       "    .dataframe thead th {\n",
       "        text-align: right;\n",
       "    }\n",
       "</style>\n",
       "<table border=\"1\" class=\"dataframe\">\n",
       "  <thead>\n",
       "    <tr style=\"text-align: right;\">\n",
       "      <th></th>\n",
       "      <th>user_id</th>\n",
       "      <th>name</th>\n",
       "      <th>age</th>\n",
       "      <th>city</th>\n",
       "      <th>subscription_type</th>\n",
       "    </tr>\n",
       "  </thead>\n",
       "  <tbody>\n",
       "    <tr>\n",
       "      <th>0</th>\n",
       "      <td>1</td>\n",
       "      <td>Кира</td>\n",
       "      <td>22</td>\n",
       "      <td>Тюмень</td>\n",
       "      <td>ultra</td>\n",
       "    </tr>\n",
       "    <tr>\n",
       "      <th>1</th>\n",
       "      <td>2</td>\n",
       "      <td>Станислав</td>\n",
       "      <td>31</td>\n",
       "      <td>Омск</td>\n",
       "      <td>ultra</td>\n",
       "    </tr>\n",
       "    <tr>\n",
       "      <th>2</th>\n",
       "      <td>3</td>\n",
       "      <td>Алексей</td>\n",
       "      <td>20</td>\n",
       "      <td>Москва</td>\n",
       "      <td>ultra</td>\n",
       "    </tr>\n",
       "    <tr>\n",
       "      <th>3</th>\n",
       "      <td>4</td>\n",
       "      <td>Константин</td>\n",
       "      <td>26</td>\n",
       "      <td>Ростов-на-Дону</td>\n",
       "      <td>ultra</td>\n",
       "    </tr>\n",
       "    <tr>\n",
       "      <th>4</th>\n",
       "      <td>5</td>\n",
       "      <td>Адель</td>\n",
       "      <td>28</td>\n",
       "      <td>Омск</td>\n",
       "      <td>ultra</td>\n",
       "    </tr>\n",
       "  </tbody>\n",
       "</table>\n",
       "</div>"
      ],
      "text/plain": [
       "   user_id        name  age            city subscription_type\n",
       "0        1        Кира   22          Тюмень             ultra\n",
       "1        2   Станислав   31            Омск             ultra\n",
       "2        3     Алексей   20          Москва             ultra\n",
       "3        4  Константин   26  Ростов-на-Дону             ultra\n",
       "4        5       Адель   28            Омск             ultra"
      ]
     },
     "execution_count": 3,
     "metadata": {},
     "output_type": "execute_result"
    }
   ],
   "source": [
    "users.head()"
   ]
  },
  {
   "cell_type": "code",
   "execution_count": 4,
   "id": "9bffba0c",
   "metadata": {},
   "outputs": [
    {
     "name": "stdout",
     "output_type": "stream",
     "text": [
      "<class 'pandas.core.frame.DataFrame'>\n",
      "RangeIndex: 1565 entries, 0 to 1564\n",
      "Data columns (total 5 columns):\n",
      " #   Column             Non-Null Count  Dtype \n",
      "---  ------             --------------  ----- \n",
      " 0   user_id            1565 non-null   int64 \n",
      " 1   name               1565 non-null   object\n",
      " 2   age                1565 non-null   int64 \n",
      " 3   city               1565 non-null   object\n",
      " 4   subscription_type  1565 non-null   object\n",
      "dtypes: int64(2), object(3)\n",
      "memory usage: 61.3+ KB\n"
     ]
    }
   ],
   "source": [
    "users.info()"
   ]
  },
  {
   "cell_type": "code",
   "execution_count": 5,
   "id": "bf842456",
   "metadata": {},
   "outputs": [
    {
     "data": {
      "text/html": [
       "<div>\n",
       "<style scoped>\n",
       "    .dataframe tbody tr th:only-of-type {\n",
       "        vertical-align: middle;\n",
       "    }\n",
       "\n",
       "    .dataframe tbody tr th {\n",
       "        vertical-align: top;\n",
       "    }\n",
       "\n",
       "    .dataframe thead th {\n",
       "        text-align: right;\n",
       "    }\n",
       "</style>\n",
       "<table border=\"1\" class=\"dataframe\">\n",
       "  <thead>\n",
       "    <tr style=\"text-align: right;\">\n",
       "      <th></th>\n",
       "      <th>user_id</th>\n",
       "      <th>distance</th>\n",
       "      <th>duration</th>\n",
       "      <th>date</th>\n",
       "    </tr>\n",
       "  </thead>\n",
       "  <tbody>\n",
       "    <tr>\n",
       "      <th>0</th>\n",
       "      <td>1</td>\n",
       "      <td>4409.919140</td>\n",
       "      <td>25.599769</td>\n",
       "      <td>2021-01-01</td>\n",
       "    </tr>\n",
       "    <tr>\n",
       "      <th>1</th>\n",
       "      <td>1</td>\n",
       "      <td>2617.592153</td>\n",
       "      <td>15.816871</td>\n",
       "      <td>2021-01-18</td>\n",
       "    </tr>\n",
       "    <tr>\n",
       "      <th>2</th>\n",
       "      <td>1</td>\n",
       "      <td>754.159807</td>\n",
       "      <td>6.232113</td>\n",
       "      <td>2021-04-20</td>\n",
       "    </tr>\n",
       "    <tr>\n",
       "      <th>3</th>\n",
       "      <td>1</td>\n",
       "      <td>2694.783254</td>\n",
       "      <td>18.511000</td>\n",
       "      <td>2021-08-11</td>\n",
       "    </tr>\n",
       "    <tr>\n",
       "      <th>4</th>\n",
       "      <td>1</td>\n",
       "      <td>4028.687306</td>\n",
       "      <td>26.265803</td>\n",
       "      <td>2021-08-28</td>\n",
       "    </tr>\n",
       "  </tbody>\n",
       "</table>\n",
       "</div>"
      ],
      "text/plain": [
       "   user_id     distance   duration        date\n",
       "0        1  4409.919140  25.599769  2021-01-01\n",
       "1        1  2617.592153  15.816871  2021-01-18\n",
       "2        1   754.159807   6.232113  2021-04-20\n",
       "3        1  2694.783254  18.511000  2021-08-11\n",
       "4        1  4028.687306  26.265803  2021-08-28"
      ]
     },
     "execution_count": 5,
     "metadata": {},
     "output_type": "execute_result"
    }
   ],
   "source": [
    "rides.head()"
   ]
  },
  {
   "cell_type": "code",
   "execution_count": 6,
   "id": "8df88b32",
   "metadata": {},
   "outputs": [
    {
     "name": "stdout",
     "output_type": "stream",
     "text": [
      "<class 'pandas.core.frame.DataFrame'>\n",
      "RangeIndex: 18068 entries, 0 to 18067\n",
      "Data columns (total 4 columns):\n",
      " #   Column    Non-Null Count  Dtype  \n",
      "---  ------    --------------  -----  \n",
      " 0   user_id   18068 non-null  int64  \n",
      " 1   distance  18068 non-null  float64\n",
      " 2   duration  18068 non-null  float64\n",
      " 3   date      18068 non-null  object \n",
      "dtypes: float64(2), int64(1), object(1)\n",
      "memory usage: 564.8+ KB\n"
     ]
    }
   ],
   "source": [
    "rides.info()"
   ]
  },
  {
   "cell_type": "code",
   "execution_count": 7,
   "id": "e4ad593d",
   "metadata": {},
   "outputs": [
    {
     "data": {
      "text/html": [
       "<div>\n",
       "<style scoped>\n",
       "    .dataframe tbody tr th:only-of-type {\n",
       "        vertical-align: middle;\n",
       "    }\n",
       "\n",
       "    .dataframe tbody tr th {\n",
       "        vertical-align: top;\n",
       "    }\n",
       "\n",
       "    .dataframe thead th {\n",
       "        text-align: right;\n",
       "    }\n",
       "</style>\n",
       "<table border=\"1\" class=\"dataframe\">\n",
       "  <thead>\n",
       "    <tr style=\"text-align: right;\">\n",
       "      <th></th>\n",
       "      <th>subscription_type</th>\n",
       "      <th>minute_price</th>\n",
       "      <th>start_ride_price</th>\n",
       "      <th>subscription_fee</th>\n",
       "    </tr>\n",
       "  </thead>\n",
       "  <tbody>\n",
       "    <tr>\n",
       "      <th>0</th>\n",
       "      <td>free</td>\n",
       "      <td>8</td>\n",
       "      <td>50</td>\n",
       "      <td>0</td>\n",
       "    </tr>\n",
       "    <tr>\n",
       "      <th>1</th>\n",
       "      <td>ultra</td>\n",
       "      <td>6</td>\n",
       "      <td>0</td>\n",
       "      <td>199</td>\n",
       "    </tr>\n",
       "  </tbody>\n",
       "</table>\n",
       "</div>"
      ],
      "text/plain": [
       "  subscription_type  minute_price  start_ride_price  subscription_fee\n",
       "0              free             8                50                 0\n",
       "1             ultra             6                 0               199"
      ]
     },
     "execution_count": 7,
     "metadata": {},
     "output_type": "execute_result"
    }
   ],
   "source": [
    "subscriptions.head()"
   ]
  },
  {
   "cell_type": "code",
   "execution_count": 8,
   "id": "bf4d45d8",
   "metadata": {
    "scrolled": true
   },
   "outputs": [
    {
     "name": "stdout",
     "output_type": "stream",
     "text": [
      "<class 'pandas.core.frame.DataFrame'>\n",
      "RangeIndex: 2 entries, 0 to 1\n",
      "Data columns (total 4 columns):\n",
      " #   Column             Non-Null Count  Dtype \n",
      "---  ------             --------------  ----- \n",
      " 0   subscription_type  2 non-null      object\n",
      " 1   minute_price       2 non-null      int64 \n",
      " 2   start_ride_price   2 non-null      int64 \n",
      " 3   subscription_fee   2 non-null      int64 \n",
      "dtypes: int64(3), object(1)\n",
      "memory usage: 196.0+ bytes\n"
     ]
    }
   ],
   "source": [
    "subscriptions.info()"
   ]
  },
  {
   "cell_type": "markdown",
   "id": "289b36b7",
   "metadata": {},
   "source": [
    "**Вывод по разделу 1: Первичная загрузка и анализ данных**\n",
    "\n",
    "Данные успешно загружены в три датафрейма:\n",
    "- users (информация о пользователях)\n",
    "- rides (данные о поездках)\n",
    "- subscriptions (тарифные планы)\n",
    "\n",
    "Структура данных:\n",
    "users содержит 1565 записей (5 полей: ID, имя, возраст, город, тип подписки).\n",
    "rides включает 18 068 поездок (4 поля: ID пользователя, расстояние, длительность, дата).\n",
    "subscriptions описывает два тарифа (free и ultra) с их стоимостью.\n",
    "\n",
    "Качество данных:\n",
    "Пропуски отсутствуют (.info() показывает non-null для всех столбцов).\n",
    "\n",
    "Типы данных в целом корректны, но:\n",
    "date в rides загружен как object (позже нужно преобразовать в datetime).\n",
    "Числовые поля (distance, duration) имеют тип float64, что подходит для метрик.\n",
    "\n",
    "Итог: Данные загружены корректно, их структура понятна. Следующий шаг — предобработка (очистка аномалий, приведение типов) и углубленный анализ."
   ]
  },
  {
   "cell_type": "markdown",
   "id": "e95ebca7",
   "metadata": {},
   "source": [
    "#### Шаг 2. Предобработка данных"
   ]
  },
  {
   "cell_type": "markdown",
   "id": "0ae1c59d",
   "metadata": {},
   "source": [
    "##### Приведите столбец date к типу даты pandas"
   ]
  },
  {
   "cell_type": "code",
   "execution_count": 9,
   "id": "86333d93",
   "metadata": {},
   "outputs": [],
   "source": [
    "rides['date'] = pd.to_datetime(rides['date'], format='%Y-%m-%d')"
   ]
  },
  {
   "cell_type": "code",
   "execution_count": 10,
   "id": "99eec3a5",
   "metadata": {},
   "outputs": [
    {
     "name": "stdout",
     "output_type": "stream",
     "text": [
      "<class 'pandas.core.frame.DataFrame'>\n",
      "RangeIndex: 18068 entries, 0 to 18067\n",
      "Data columns (total 4 columns):\n",
      " #   Column    Non-Null Count  Dtype         \n",
      "---  ------    --------------  -----         \n",
      " 0   user_id   18068 non-null  int64         \n",
      " 1   distance  18068 non-null  float64       \n",
      " 2   duration  18068 non-null  float64       \n",
      " 3   date      18068 non-null  datetime64[ns]\n",
      "dtypes: datetime64[ns](1), float64(2), int64(1)\n",
      "memory usage: 564.8 KB\n"
     ]
    }
   ],
   "source": [
    "rides.info()"
   ]
  },
  {
   "cell_type": "markdown",
   "id": "4dc40be4",
   "metadata": {},
   "source": [
    "##### Создайте новый столбец с номером месяца на основе столбца date"
   ]
  },
  {
   "cell_type": "code",
   "execution_count": 11,
   "id": "c3195b1d",
   "metadata": {},
   "outputs": [],
   "source": [
    "rides['month'] = pd.DatetimeIndex(rides['date']).month"
   ]
  },
  {
   "cell_type": "code",
   "execution_count": 12,
   "id": "e9c87289",
   "metadata": {},
   "outputs": [
    {
     "data": {
      "text/html": [
       "<div>\n",
       "<style scoped>\n",
       "    .dataframe tbody tr th:only-of-type {\n",
       "        vertical-align: middle;\n",
       "    }\n",
       "\n",
       "    .dataframe tbody tr th {\n",
       "        vertical-align: top;\n",
       "    }\n",
       "\n",
       "    .dataframe thead th {\n",
       "        text-align: right;\n",
       "    }\n",
       "</style>\n",
       "<table border=\"1\" class=\"dataframe\">\n",
       "  <thead>\n",
       "    <tr style=\"text-align: right;\">\n",
       "      <th></th>\n",
       "      <th>user_id</th>\n",
       "      <th>distance</th>\n",
       "      <th>duration</th>\n",
       "      <th>date</th>\n",
       "      <th>month</th>\n",
       "    </tr>\n",
       "  </thead>\n",
       "  <tbody>\n",
       "    <tr>\n",
       "      <th>0</th>\n",
       "      <td>1</td>\n",
       "      <td>4409.919140</td>\n",
       "      <td>25.599769</td>\n",
       "      <td>2021-01-01</td>\n",
       "      <td>1</td>\n",
       "    </tr>\n",
       "    <tr>\n",
       "      <th>1</th>\n",
       "      <td>1</td>\n",
       "      <td>2617.592153</td>\n",
       "      <td>15.816871</td>\n",
       "      <td>2021-01-18</td>\n",
       "      <td>1</td>\n",
       "    </tr>\n",
       "    <tr>\n",
       "      <th>2</th>\n",
       "      <td>1</td>\n",
       "      <td>754.159807</td>\n",
       "      <td>6.232113</td>\n",
       "      <td>2021-04-20</td>\n",
       "      <td>4</td>\n",
       "    </tr>\n",
       "    <tr>\n",
       "      <th>3</th>\n",
       "      <td>1</td>\n",
       "      <td>2694.783254</td>\n",
       "      <td>18.511000</td>\n",
       "      <td>2021-08-11</td>\n",
       "      <td>8</td>\n",
       "    </tr>\n",
       "    <tr>\n",
       "      <th>4</th>\n",
       "      <td>1</td>\n",
       "      <td>4028.687306</td>\n",
       "      <td>26.265803</td>\n",
       "      <td>2021-08-28</td>\n",
       "      <td>8</td>\n",
       "    </tr>\n",
       "  </tbody>\n",
       "</table>\n",
       "</div>"
      ],
      "text/plain": [
       "   user_id     distance   duration       date  month\n",
       "0        1  4409.919140  25.599769 2021-01-01      1\n",
       "1        1  2617.592153  15.816871 2021-01-18      1\n",
       "2        1   754.159807   6.232113 2021-04-20      4\n",
       "3        1  2694.783254  18.511000 2021-08-11      8\n",
       "4        1  4028.687306  26.265803 2021-08-28      8"
      ]
     },
     "execution_count": 12,
     "metadata": {},
     "output_type": "execute_result"
    }
   ],
   "source": [
    "rides.head()"
   ]
  },
  {
   "cell_type": "markdown",
   "id": "2bf790ad",
   "metadata": {},
   "source": [
    "Проверим столбец длительности на предмет наличия аномалий. Например, если у нас разные года то январь 2021 и январь 2022 будут под одной цифрой (1)."
   ]
  },
  {
   "cell_type": "code",
   "execution_count": 13,
   "id": "c40f3a6e",
   "metadata": {},
   "outputs": [
    {
     "name": "stdout",
     "output_type": "stream",
     "text": [
      "Минимальная дата: 2021-01-01 00:00:00\n",
      "Максимальная дата: 2021-12-30 00:00:00\n",
      "\n",
      "Данные охватывают период с 2021-01-01 00:00:00 по 2021-12-30 00:00:00\n",
      "\n",
      "Распределение поездок по годам:\n",
      "date\n",
      "2021    18068\n",
      "Name: count, dtype: int64\n"
     ]
    }
   ],
   "source": [
    "# Проверка временного диапазона данных\n",
    "print(\"Минимальная дата:\", rides['date'].min())\n",
    "print(\"Максимальная дата:\", rides['date'].max())\n",
    "print(\"\\nДанные охватывают период с\", rides['date'].min(), \"по\", rides['date'].max())\n",
    "\n",
    "# Проверка распределения по годам\n",
    "print(\"\\nРаспределение поездок по годам:\")\n",
    "print(rides['date'].dt.year.value_counts().sort_index())"
   ]
  },
  {
   "cell_type": "markdown",
   "id": "9e0f6611",
   "metadata": {},
   "source": [
    "Данные охватывают только 2021 год, поэтому использование month без указания года корректно."
   ]
  },
  {
   "cell_type": "markdown",
   "id": "1198e028",
   "metadata": {},
   "source": [
    "##### Проверьте наличие пропущенных значений и дубликатов в датафреймах. Обработайте их, если такие значения присутствуют"
   ]
  },
  {
   "cell_type": "code",
   "execution_count": 14,
   "id": "fcd7d0db",
   "metadata": {},
   "outputs": [
    {
     "data": {
      "text/plain": [
       "user_id              0\n",
       "name                 0\n",
       "age                  0\n",
       "city                 0\n",
       "subscription_type    0\n",
       "dtype: int64"
      ]
     },
     "execution_count": 14,
     "metadata": {},
     "output_type": "execute_result"
    }
   ],
   "source": [
    "users.isna().sum() # определяем, в каких столбцах есть пропуски"
   ]
  },
  {
   "cell_type": "code",
   "execution_count": 15,
   "id": "c3cef68b",
   "metadata": {},
   "outputs": [
    {
     "data": {
      "text/plain": [
       "user_id     0\n",
       "distance    0\n",
       "duration    0\n",
       "date        0\n",
       "month       0\n",
       "dtype: int64"
      ]
     },
     "execution_count": 15,
     "metadata": {},
     "output_type": "execute_result"
    }
   ],
   "source": [
    "rides.isna().sum() # определяем, в каких столбцах есть пропуски"
   ]
  },
  {
   "cell_type": "code",
   "execution_count": 16,
   "id": "fbf26364",
   "metadata": {},
   "outputs": [
    {
     "data": {
      "text/plain": [
       "subscription_type    0\n",
       "minute_price         0\n",
       "start_ride_price     0\n",
       "subscription_fee     0\n",
       "dtype: int64"
      ]
     },
     "execution_count": 16,
     "metadata": {},
     "output_type": "execute_result"
    }
   ],
   "source": [
    "subscriptions.isna().sum() # определяем, в каких столбцах есть пропуски"
   ]
  },
  {
   "cell_type": "markdown",
   "id": "cd60175e",
   "metadata": {},
   "source": [
    "Пропущенные значения отсутствуют"
   ]
  },
  {
   "cell_type": "code",
   "execution_count": 17,
   "id": "c4d3f59b",
   "metadata": {},
   "outputs": [
    {
     "data": {
      "text/plain": [
       "31"
      ]
     },
     "execution_count": 17,
     "metadata": {},
     "output_type": "execute_result"
    }
   ],
   "source": [
    "users.duplicated().sum() # проверим датасет на наличие строк-дубликатов"
   ]
  },
  {
   "cell_type": "code",
   "execution_count": 18,
   "id": "043384d4",
   "metadata": {},
   "outputs": [],
   "source": [
    "users.drop_duplicates(inplace=True) # удалим найденные явные дубликаты"
   ]
  },
  {
   "cell_type": "code",
   "execution_count": 19,
   "id": "9901ca1a",
   "metadata": {},
   "outputs": [
    {
     "data": {
      "text/plain": [
       "0"
      ]
     },
     "execution_count": 19,
     "metadata": {},
     "output_type": "execute_result"
    }
   ],
   "source": [
    "users.duplicated().sum()"
   ]
  },
  {
   "cell_type": "code",
   "execution_count": 20,
   "id": "f2ab793a",
   "metadata": {},
   "outputs": [
    {
     "data": {
      "text/plain": [
       "0"
      ]
     },
     "execution_count": 20,
     "metadata": {},
     "output_type": "execute_result"
    }
   ],
   "source": [
    "rides.duplicated().sum() # проверим датасет на наличие строк-дубликатов"
   ]
  },
  {
   "cell_type": "code",
   "execution_count": 21,
   "id": "47c16ebe",
   "metadata": {},
   "outputs": [
    {
     "data": {
      "text/plain": [
       "0"
      ]
     },
     "execution_count": 21,
     "metadata": {},
     "output_type": "execute_result"
    }
   ],
   "source": [
    "subscriptions.duplicated().sum() # проверим датасет на наличие строк-дубликатов"
   ]
  },
  {
   "cell_type": "markdown",
   "id": "d895199b",
   "metadata": {},
   "source": [
    "Дубликаты отсутствуют"
   ]
  },
  {
   "cell_type": "markdown",
   "id": "d4d15389",
   "metadata": {},
   "source": [
    "**Выводы по разделу 2: Предобработка данных**\n",
    "\n",
    "Преобразование типов данных:\n",
    "Поле date в датафрейме rides успешно преобразовано в формат datetime, что позволит проводить временной анализ.\n",
    "Добавлен столбец month для группировки данных по месяцам.\n",
    "\n",
    "Обработка аномалий:\n",
    "Удалены поездки с расстоянием менее 100 метров как нерелевантные (аномально короткие).\n",
    "\n",
    "Проверка на дубликаты показала их отсутствие в данных о поездках (rides), но выявлены и удалены дубликаты в данных о пользователях (users).\n",
    "\n",
    "Качество данных:\n",
    "Пропущенные значения отсутствуют во всех датафреймах.\n",
    "Данные приведены к согласованному формату, готовы для дальнейшего анализа."
   ]
  },
  {
   "cell_type": "markdown",
   "id": "212593c7",
   "metadata": {},
   "source": [
    "#### Шаг 3. Исследовательский анализ данных"
   ]
  },
  {
   "cell_type": "markdown",
   "id": "3f391c26",
   "metadata": {},
   "source": [
    "**Опишите и визуализируйте общую информацию о пользователях и поездках:**"
   ]
  },
  {
   "cell_type": "markdown",
   "id": "87ccc844",
   "metadata": {},
   "source": [
    "##### частота встречаемости городов"
   ]
  },
  {
   "cell_type": "code",
   "execution_count": 22,
   "id": "a16e6a78",
   "metadata": {},
   "outputs": [
    {
     "name": "stdout",
     "output_type": "stream",
     "text": [
      "             city  count  percentage\n",
      "0       Пятигорск    219        14.3\n",
      "1    Екатеринбург    204        13.3\n",
      "2  Ростов-на-Дону    198        12.9\n",
      "3       Краснодар    193        12.6\n",
      "4            Сочи    189        12.3\n",
      "5            Омск    183        11.9\n",
      "6          Тюмень    180        11.7\n",
      "7          Москва    168        11.0\n"
     ]
    }
   ],
   "source": [
    "# Считаем количество пользователей из каждого города\n",
    "city_freq = users['city'].value_counts().reset_index()\n",
    "city_freq.columns = ['city', 'count']  # Переименовываем столбцы\n",
    "city_freq['percentage'] = round((city_freq['count'] / city_freq['count'].sum()) * 100, 1)  # Добавляем проценты\n",
    "\n",
    "# Выводим таблицу\n",
    "print(city_freq)"
   ]
  },
  {
   "cell_type": "code",
   "execution_count": 23,
   "id": "343de5a3",
   "metadata": {},
   "outputs": [
    {
     "data": {
      "image/png": "[encoded data removed]",
      "text/plain": [
       "<Figure size 1000x600 with 1 Axes>"
      ]
     },
     "metadata": {},
     "output_type": "display_data"
    }
   ],
   "source": [
    "# Считаем частоту городов\n",
    "city_counts = users['city'].value_counts().sort_values(ascending=False)\n",
    "\n",
    "# Настройка стиля с помощью seaborn.set_style()\n",
    "sns.set_style('darkgrid') # Использование функции seaborn для установки стиля\n",
    "plt.figure(figsize=(10, 6))\n",
    "\n",
    "# Строим график\n",
    "bars = plt.bar(\n",
    "    city_counts.index,\n",
    "    city_counts.values,\n",
    "    color='#1f77b4',\n",
    "    edgecolor='darkblue',\n",
    "    linewidth=0.7\n",
    ")\n",
    "\n",
    "# Добавляем подписи значений\n",
    "for bar in bars:\n",
    "    height = bar.get_height()\n",
    "    plt.text(\n",
    "        bar.get_x() + bar.get_width() / 2,\n",
    "        height + 5,\n",
    "        f'{height}',\n",
    "        ha='center',\n",
    "        va='bottom',\n",
    "        fontsize=10\n",
    "    )\n",
    "\n",
    "# Настройка оформления\n",
    "plt.title('Распределение пользователей по городам', pad=20, fontsize=14)\n",
    "plt.xlabel('Город', labelpad=10)\n",
    "plt.ylabel('Количество пользователей', labelpad=10)\n",
    "plt.xticks(rotation=45, ha='right')\n",
    "plt.grid(axis='y', linestyle='--', alpha=0.4) # Сетка обычно уже есть с darkgrid, но можно оставить для контроля\n",
    "\n",
    "# Убираем лишние отступы\n",
    "plt.tight_layout()\n",
    "plt.savefig('city_distribution.png') # Сохраняем график в файл"
   ]
  },
  {
   "cell_type": "markdown",
   "id": "470af4fd",
   "metadata": {},
   "source": [
    "##### соотношение пользователей с подпиской и без подписки"
   ]
  },
  {
   "cell_type": "code",
   "execution_count": 24,
   "id": "414437ce",
   "metadata": {},
   "outputs": [
    {
     "name": "stdout",
     "output_type": "stream",
     "text": [
      "                   count  percentage\n",
      "subscription_type                   \n",
      "free                 835        54.4\n",
      "ultra                699        45.6\n"
     ]
    }
   ],
   "source": [
    "# Считаем количество пользователей по типам подписки\n",
    "subs_dist = users['subscription_type'].value_counts()\n",
    "\n",
    "# Добавляем проценты\n",
    "subs_dist = pd.DataFrame({\n",
    "    'count': subs_dist,\n",
    "    'percentage': round(subs_dist / subs_dist.sum() * 100, 1)\n",
    "})\n",
    "\n",
    "print(subs_dist)"
   ]
  },
  {
   "cell_type": "code",
   "execution_count": 25,
   "id": "57056766",
   "metadata": {},
   "outputs": [
    {
     "data": {
      "image/png": "[encoded data removed]",
      "text/plain": [
       "<Figure size 1000x600 with 1 Axes>"
      ]
     },
     "metadata": {},
     "output_type": "display_data"
    }
   ],
   "source": [
    "# Create subs_dist DataFrame\n",
    "subs_dist = users['subscription_type'].value_counts().reset_index()\n",
    "subs_dist.columns = ['subscription_type', 'count']\n",
    "subs_dist['percentage'] = (subs_dist['count'] / subs_dist['count'].sum() * 100).round(1)\n",
    "subs_dist = subs_dist.set_index('subscription_type')\n",
    "\n",
    "# Настройка стиля с помощью seaborn.set_style()\n",
    "sns.set_style('darkgrid') # Использование функции seaborn для установки стиля\n",
    "plt.figure(figsize=(10, 6))\n",
    "\n",
    "# Цветовая схема\n",
    "colors = ['#4c72b0', '#dd8452'] # Adjusted colors for better visibility with darkgrid\n",
    "\n",
    "# Круговая диаграмма с \"выдвинутым\" сегментом\n",
    "# autopct = '' has been removed to allow percentage labels from 'labels'\n",
    "plt.pie(\n",
    "    subs_dist['count'],\n",
    "    labels=[f'{idx}\\n{val}%' for idx, val in zip(subs_dist.index, subs_dist['percentage'])],\n",
    "    colors=colors,\n",
    "    startangle=90,\n",
    "    wedgeprops={'width': 0.4, 'edgecolor': 'white', 'linewidth': 2},\n",
    "    pctdistance=0.85\n",
    ")\n",
    "\n",
    "# Добавляем заголовок и легенду\n",
    "plt.title('Соотношение типов подписки\\n', fontsize=14, pad=20)\n",
    "plt.legend(\n",
    "    title='Тип подписки',\n",
    "    loc='upper right',\n",
    "    bbox_to_anchor=(1.3, 1),\n",
    "    labels=[f'{x} ({y}%)' for x, y in zip(subs_dist.index, subs_dist['percentage'])]\n",
    ")\n",
    "\n",
    "# Делаем диаграмму \"полукольцом\"\n",
    "centre_circle = plt.Circle((0,0), 0.6, fc='white')\n",
    "fig = plt.gcf()\n",
    "fig.gca().add_artist(centre_circle)\n",
    "\n",
    "plt.tight_layout()\n",
    "plt.savefig('subscription_distribution.png') # Сохраняем график в файл вместо show()"
   ]
  },
  {
   "cell_type": "markdown",
   "id": "e1fa1062",
   "metadata": {},
   "source": [
    "##### возраст пользователей"
   ]
  },
  {
   "cell_type": "code",
   "execution_count": 26,
   "id": "37ea5292",
   "metadata": {},
   "outputs": [
    {
     "name": "stdout",
     "output_type": "stream",
     "text": [
      "     count  percentage\n",
      "age                   \n",
      "25     145         9.5\n",
      "24     132         8.6\n",
      "26     131         8.5\n",
      "23     129         8.4\n",
      "22     119         7.8\n",
      "27     119         7.8\n",
      "28     112         7.3\n",
      "21      93         6.1\n",
      "20      71         4.6\n",
      "30      68         4.4\n",
      "29      68         4.4\n",
      "31      48         3.1\n",
      "19      47         3.1\n",
      "18      46         3.0\n",
      "32      41         2.7\n",
      "33      39         2.5\n",
      "17      26         1.7\n",
      "16      19         1.2\n",
      "34      19         1.2\n",
      "35      15         1.0\n",
      "15      13         0.8\n",
      "14       9         0.6\n",
      "13       8         0.5\n",
      "36       6         0.4\n",
      "12       4         0.3\n",
      "38       3         0.2\n",
      "37       2         0.1\n",
      "39       1         0.1\n",
      "43       1         0.1\n"
     ]
    }
   ],
   "source": [
    "# Считаем количество пользователей по возрасту\n",
    "subs_dist = users['age'].value_counts()\n",
    "\n",
    "# Добавляем проценты\n",
    "subs_dist = pd.DataFrame({\n",
    "    'count': subs_dist,\n",
    "    'percentage': round(subs_dist / subs_dist.sum() * 100, 1)\n",
    "})\n",
    "\n",
    "print(subs_dist)"
   ]
  },
  {
   "cell_type": "code",
   "execution_count": 27,
   "id": "0e1390fb",
   "metadata": {},
   "outputs": [
    {
     "name": "stdout",
     "output_type": "stream",
     "text": [
      "Межквартильный размах (IQR): 6.0 лет\n",
      "Границы выбросов (1.5*IQR): [13.0, 37.0] лет\n"
     ]
    },
    {
     "data": {
      "image/png": "[encoded data removed]",
      "text/plain": [
       "<Figure size 1200x800 with 2 Axes>"
      ]
     },
     "metadata": {},
     "output_type": "display_data"
    }
   ],
   "source": [
    "# Настройка стиля с помощью seaborn.set_style()\n",
    "sns.set_style('darkgrid') \n",
    "\n",
    "fig, (ax1, ax2) = plt.subplots(2, 1, figsize=(12, 8), \n",
    "                               gridspec_kw={'height_ratios': [3, 1]},\n",
    "                               sharex=True)\n",
    "\n",
    "# Гистограмма (верхний график)\n",
    "hist = sns.histplot(\n",
    "    data=users,\n",
    "    x='age',\n",
    "    bins=30,\n",
    "    kde=False,\n",
    "    color='#4c72b0',\n",
    "    edgecolor='#1a3d5c',\n",
    "    linewidth=0.5,\n",
    "    stat='probability',\n",
    "    ax=ax1\n",
    ")\n",
    "\n",
    "# Добавляем проценты на столбцы\n",
    "for p in ax1.patches:\n",
    "    height = p.get_height()\n",
    "    ax1.text(p.get_x() + p.get_width()/2.,\n",
    "             height + 0.005,\n",
    "             f'{height*100:.1f}%',\n",
    "             ha='center',\n",
    "             va='bottom',\n",
    "             fontsize=10)\n",
    "\n",
    "# Линия среднего возраста\n",
    "mean_age = users['age'].mean()\n",
    "ax1.axvline(\n",
    "    x=mean_age,\n",
    "    color='#dd8452',\n",
    "    linestyle='--',\n",
    "    linewidth=2,\n",
    "    label=f'Средний возраст: {mean_age:.1f} лет'\n",
    ")\n",
    "\n",
    "# Оформление\n",
    "ax1.set_title('Распределение возраста пользователей\\n', fontsize=14, pad=20)\n",
    "ax1.set_xlabel('Возраст', fontsize=12)\n",
    "ax1.set_ylabel('Процент пользователей (%)', fontsize=12)\n",
    "ax1.set_ylim(0, 0.11)\n",
    "ax1.set_yticks(np.arange(0, 0.11, 0.02))\n",
    "ax1.set_yticklabels([f'{x*100:.0f}%' for x in np.arange(0, 0.11, 0.02)])\n",
    "ax1.set_xticks(range(10, 45, 5))\n",
    "ax1.grid(axis='y', linestyle='--', alpha=0.4)\n",
    "ax1.legend(fontsize=12)\n",
    "\n",
    "# Boxplot (нижний график)\n",
    "sns.boxplot(\n",
    "    x=users['age'],\n",
    "    color='#4c72b0',\n",
    "    width=0.4,\n",
    "    ax=ax2,\n",
    "    linewidth=1,\n",
    "    fliersize=3,\n",
    "    boxprops=dict(edgecolor='#1a3d5c'),\n",
    "    whiskerprops=dict(color='#1a3d5c'),\n",
    "    capprops=dict(color='#1a3d5c'),\n",
    "    medianprops=dict(color='#dd8452')\n",
    ")\n",
    "\n",
    "# Вычисляем квантили\n",
    "q25, q75 = users['age'].quantile([0.25, 0.75])\n",
    "iqr = q75 - q25\n",
    "\n",
    "# Добавляем аннотации\n",
    "ax2.annotate(f'25%: {q25:.1f}', xy=(q25, 0), xytext=(q25-3, 0.3), \n",
    "             arrowprops=dict(arrowstyle=\"->\", color='#1a3d5c'))\n",
    "ax2.annotate(f'75%: {q75:.1f}', xy=(q75, 0), xytext=(q75+1, 0.3), \n",
    "             arrowprops=dict(arrowstyle=\"->\", color='#1a3d5c'))\n",
    "\n",
    "# Настройки boxplot\n",
    "ax2.set_xlabel('Возраст', fontsize=12)\n",
    "ax2.grid(axis='x', linestyle='--', alpha=0.4)\n",
    "ax2.set_xticks(range(10, 45, 5))\n",
    "\n",
    "plt.tight_layout()\n",
    "plt.savefig('age_distribution_with_boxplot.png') # Сохраняем график в файл вместо show()\n",
    "\n",
    "# Дополнительные статистики\n",
    "print(f\"Межквартильный размах (IQR): {iqr:.1f} лет\")\n",
    "print(f\"Границы выбросов (1.5*IQR): [{q25-1.5*iqr:.1f}, {q75+1.5*iqr:.1f}] лет\")"
   ]
  },
  {
   "cell_type": "markdown",
   "id": "4d25bc63",
   "metadata": {},
   "source": [
    "Основные характеристики распределения:\n",
    "Средний возраст: 24.9 лет\n",
    "\n",
    "Форма распределения:\n",
    "Правосторонняя асимметрия с выраженным пиком в молодых возрастных группах\n",
    "\n",
    "Основной возрастной диапазон:\n",
    "22-28 лет (охватывает большинство пользователей).\n",
    "\n",
    "Пиковые значения:\n",
    "Наибольшая концентрация пользователей в возрасте 20-25 лет\n",
    "Максимальный процент пользователей (9.5%) приходится на возраст 25 лет"
   ]
  },
  {
   "cell_type": "markdown",
   "id": "acca0a03",
   "metadata": {},
   "source": [
    "##### расстояние, которое пользователь преодолел за одну поездку"
   ]
  },
  {
   "cell_type": "code",
   "execution_count": 28,
   "id": "dcc42883",
   "metadata": {
    "scrolled": true
   },
   "outputs": [
    {
     "name": "stdout",
     "output_type": "stream",
     "text": [
      "Основные статистики расстояния поездок:\n"
     ]
    },
    {
     "data": {
      "text/html": [
       "<div>\n",
       "<style scoped>\n",
       "    .dataframe tbody tr th:only-of-type {\n",
       "        vertical-align: middle;\n",
       "    }\n",
       "\n",
       "    .dataframe tbody tr th {\n",
       "        vertical-align: top;\n",
       "    }\n",
       "\n",
       "    .dataframe thead th {\n",
       "        text-align: right;\n",
       "    }\n",
       "</style>\n",
       "<table border=\"1\" class=\"dataframe\">\n",
       "  <thead>\n",
       "    <tr style=\"text-align: right;\">\n",
       "      <th></th>\n",
       "      <th>count</th>\n",
       "      <th>mean</th>\n",
       "      <th>std</th>\n",
       "      <th>min</th>\n",
       "      <th>50%</th>\n",
       "      <th>25%</th>\n",
       "      <th>max</th>\n",
       "    </tr>\n",
       "  </thead>\n",
       "  <tbody>\n",
       "    <tr>\n",
       "      <th>distance</th>\n",
       "      <td>18068.0</td>\n",
       "      <td>3070.659976</td>\n",
       "      <td>1116.831209</td>\n",
       "      <td>0.855683</td>\n",
       "      <td>3133.609994</td>\n",
       "      <td>2543.22636</td>\n",
       "      <td>7211.007745</td>\n",
       "    </tr>\n",
       "  </tbody>\n",
       "</table>\n",
       "</div>"
      ],
      "text/plain": [
       "            count         mean          std       min          50%  \\\n",
       "distance  18068.0  3070.659976  1116.831209  0.855683  3133.609994   \n",
       "\n",
       "                 25%          max  \n",
       "distance  2543.22636  7211.007745  "
      ]
     },
     "metadata": {},
     "output_type": "display_data"
    }
   ],
   "source": [
    "# Основные статистики\n",
    "distance_stats = rides['distance'].agg(['count', 'mean', 'std', 'min', \n",
    "                                     'median', lambda x: x.quantile(0.25), \n",
    "                                     'max']).to_frame().T\n",
    "distance_stats.columns = ['count', 'mean', 'std', 'min', '50%', '25%', 'max']\n",
    "print(\"Основные статистики расстояния поездок:\")\n",
    "display(distance_stats)"
   ]
  },
  {
   "cell_type": "markdown",
   "id": "d9384cc7",
   "metadata": {},
   "source": [
    "Очистим данные, уберем строки с длительностью поездки менее 100м"
   ]
  },
  {
   "cell_type": "code",
   "execution_count": 29,
   "id": "5830634f",
   "metadata": {},
   "outputs": [
    {
     "name": "stdout",
     "output_type": "stream",
     "text": [
      "Основные статистики расстояния поездок:\n"
     ]
    },
    {
     "data": {
      "text/html": [
       "<div>\n",
       "<style scoped>\n",
       "    .dataframe tbody tr th:only-of-type {\n",
       "        vertical-align: middle;\n",
       "    }\n",
       "\n",
       "    .dataframe tbody tr th {\n",
       "        vertical-align: top;\n",
       "    }\n",
       "\n",
       "    .dataframe thead th {\n",
       "        text-align: right;\n",
       "    }\n",
       "</style>\n",
       "<table border=\"1\" class=\"dataframe\">\n",
       "  <thead>\n",
       "    <tr style=\"text-align: right;\">\n",
       "      <th></th>\n",
       "      <th>count</th>\n",
       "      <th>mean</th>\n",
       "      <th>std</th>\n",
       "      <th>min</th>\n",
       "      <th>50%</th>\n",
       "      <th>25%</th>\n",
       "      <th>max</th>\n",
       "    </tr>\n",
       "  </thead>\n",
       "  <tbody>\n",
       "    <tr>\n",
       "      <th>distance</th>\n",
       "      <td>17990.0</td>\n",
       "      <td>3083.724675</td>\n",
       "      <td>1101.442969</td>\n",
       "      <td>102.323624</td>\n",
       "      <td>3137.75059</td>\n",
       "      <td>2551.031541</td>\n",
       "      <td>7211.007745</td>\n",
       "    </tr>\n",
       "  </tbody>\n",
       "</table>\n",
       "</div>"
      ],
      "text/plain": [
       "            count         mean          std         min         50%  \\\n",
       "distance  17990.0  3083.724675  1101.442969  102.323624  3137.75059   \n",
       "\n",
       "                  25%          max  \n",
       "distance  2551.031541  7211.007745  "
      ]
     },
     "metadata": {},
     "output_type": "display_data"
    }
   ],
   "source": [
    "# Фильтрация аномальных значений (поездки от 100 метров)\n",
    "valid_rides = rides[rides['distance'] >= 100].copy()\n",
    "\n",
    "# Основные статистики\n",
    "distance_stats = valid_rides['distance'].agg(['count', 'mean', 'std', 'min', \n",
    "                                     'median', lambda x: x.quantile(0.25), \n",
    "                                     'max']).to_frame().T\n",
    "distance_stats.columns = ['count', 'mean', 'std', 'min', '50%', '25%', 'max']\n",
    "print(\"Основные статистики расстояния поездок:\")\n",
    "display(distance_stats)"
   ]
  },
  {
   "cell_type": "markdown",
   "id": "48b3e692",
   "metadata": {},
   "source": [
    "Потери данных допустимые, скорректируем датафрейм."
   ]
  },
  {
   "cell_type": "code",
   "execution_count": 30,
   "id": "4480fca2",
   "metadata": {},
   "outputs": [],
   "source": [
    "riders = valid_rides"
   ]
  },
  {
   "cell_type": "code",
   "execution_count": 31,
   "id": "b361371d",
   "metadata": {},
   "outputs": [
    {
     "data": {
      "image/png": "[encoded data removed]",
      "text/plain": [
       "<Figure size 1200x1000 with 2 Axes>"
      ]
     },
     "metadata": {},
     "output_type": "display_data"
    },
    {
     "name": "stdout",
     "output_type": "stream",
     "text": [
      "Межквартильный размах (IQR): 1229 метров\n",
      "Границы выбросов (1.5*IQR): [708, 5623] метров\n"
     ]
    }
   ],
   "source": [
    "# Создаем фигуру с двумя subplots\n",
    "fig, (ax1, ax2) = plt.subplots(2, 1, figsize=(12, 10), \n",
    "                              gridspec_kw={'height_ratios': [3, 1]})\n",
    "\n",
    "# Гистограмма с KDE (верхний график)\n",
    "sns.histplot(\n",
    "    data=valid_rides,\n",
    "    x='distance',\n",
    "    bins=50,\n",
    "    kde=True,\n",
    "    color='#1f77b4',\n",
    "    stat='density',\n",
    "    ax=ax1\n",
    ")\n",
    "\n",
    "# Линии метрик для гистограммы\n",
    "mean_val = valid_rides['distance'].mean()\n",
    "median_val = valid_rides['distance'].median()\n",
    "ax1.axvline(mean_val, color='red', linestyle='--', label=f'Среднее: {mean_val:.0f} м')\n",
    "ax1.axvline(median_val, color='green', linestyle='--', label=f'Медиана: {median_val:.0f} м')\n",
    "\n",
    "# Настройки гистограммы\n",
    "ax1.set_title('Распределение расстояния поездок', pad=20)\n",
    "ax1.set_xlabel('')\n",
    "ax1.set_ylabel('Плотность вероятности', labelpad=10)\n",
    "ax1.legend()\n",
    "ax1.grid(True, alpha=0.3)\n",
    "\n",
    "# Boxplot (нижний график)\n",
    "sns.boxplot(\n",
    "    x=valid_rides['distance'],\n",
    "    color='#1f77b4',\n",
    "    width=0.3,\n",
    "    ax=ax2,\n",
    "    showfliers=False  # Скрываем выбросы для наглядности\n",
    ")\n",
    "\n",
    "# Вычисляем квантили для аннотаций\n",
    "q25, q75 = valid_rides['distance'].quantile([0.25, 0.75])\n",
    "iqr = q75 - q25\n",
    "\n",
    "# Аннотации для boxplot\n",
    "ax2.annotate(f'25%: {q25:.0f} м', xy=(q25, 0), xytext=(q25-300, 0.3), \n",
    "             arrowprops=dict(arrowstyle=\"->\", color='gray'))\n",
    "ax2.annotate(f'75%: {q75:.0f} м', xy=(q75, 0), xytext=(q75+100, 0.3), \n",
    "             arrowprops=dict(arrowstyle=\"->\", color='gray'))\n",
    "\n",
    "# Настройки boxplot\n",
    "ax2.set_xlabel('Расстояние (метры)', labelpad=10)\n",
    "ax2.grid(True, alpha=0.3)\n",
    "\n",
    "# Общие настройки\n",
    "plt.tight_layout()\n",
    "plt.show()\n",
    "\n",
    "# Вывод статистик\n",
    "print(f\"Межквартильный размах (IQR): {iqr:.0f} метров\")\n",
    "print(f\"Границы выбросов (1.5*IQR): [{q25-1.5*iqr:.0f}, {q75+1.5*iqr:.0f}] метров\")"
   ]
  },
  {
   "cell_type": "markdown",
   "id": "c6d71bc5",
   "metadata": {},
   "source": [
    "График показывает правостороннее (положительно скошенное) распределение с характерными особенностями:\n",
    "Основная масса поездок сосредоточена в диапазоне 2500-3800 метров. Медиана 3133 метра. Поездки на расстояние более 5 км редки.\n",
    "\n",
    "Пик плотности около 500 м (затем спад до 1500 м) может объясняться следующими факторами:\n",
    "Минимальная плата за поездку (пользователи сознательно ограничивают расстояние);\n",
    "Популярность коротких \"перебежек\" (например, от метро до офиса);\n",
    "Тестовые поездки новых пользователей."
   ]
  },
  {
   "cell_type": "markdown",
   "id": "bc006f96",
   "metadata": {},
   "source": [
    "##### продолжительность поездок"
   ]
  },
  {
   "cell_type": "code",
   "execution_count": 32,
   "id": "be5bcb0b",
   "metadata": {},
   "outputs": [
    {
     "name": "stdout",
     "output_type": "stream",
     "text": [
      "Основные статистики продолжительности поездок (в минутах):\n"
     ]
    },
    {
     "data": {
      "text/html": [
       "<div>\n",
       "<style scoped>\n",
       "    .dataframe tbody tr th:only-of-type {\n",
       "        vertical-align: middle;\n",
       "    }\n",
       "\n",
       "    .dataframe tbody tr th {\n",
       "        vertical-align: top;\n",
       "    }\n",
       "\n",
       "    .dataframe thead th {\n",
       "        text-align: right;\n",
       "    }\n",
       "</style>\n",
       "<table border=\"1\" class=\"dataframe\">\n",
       "  <thead>\n",
       "    <tr style=\"text-align: right;\">\n",
       "      <th></th>\n",
       "      <th>count</th>\n",
       "      <th>mean</th>\n",
       "      <th>std</th>\n",
       "      <th>min</th>\n",
       "      <th>25%</th>\n",
       "      <th>50%</th>\n",
       "      <th>75%</th>\n",
       "      <th>max</th>\n",
       "    </tr>\n",
       "  </thead>\n",
       "  <tbody>\n",
       "    <tr>\n",
       "      <th>duration</th>\n",
       "      <td>18068.0</td>\n",
       "      <td>17.805011</td>\n",
       "      <td>6.091051</td>\n",
       "      <td>0.5</td>\n",
       "      <td>13.597563</td>\n",
       "      <td>17.678395</td>\n",
       "      <td>21.7248</td>\n",
       "      <td>40.823963</td>\n",
       "    </tr>\n",
       "  </tbody>\n",
       "</table>\n",
       "</div>"
      ],
      "text/plain": [
       "            count       mean       std  min        25%        50%      75%  \\\n",
       "duration  18068.0  17.805011  6.091051  0.5  13.597563  17.678395  21.7248   \n",
       "\n",
       "                max  \n",
       "duration  40.823963  "
      ]
     },
     "metadata": {},
     "output_type": "display_data"
    }
   ],
   "source": [
    "duration_stats = rides['duration'].describe().to_frame().T\n",
    "print(\"Основные статистики продолжительности поездок (в минутах):\")\n",
    "display(duration_stats)"
   ]
  },
  {
   "cell_type": "code",
   "execution_count": 33,
   "id": "453a65e7",
   "metadata": {},
   "outputs": [
    {
     "data": {
      "image/png": "[encoded data removed]",
      "text/plain": [
       "<Figure size 1400x1000 with 2 Axes>"
      ]
     },
     "metadata": {},
     "output_type": "display_data"
    },
    {
     "name": "stdout",
     "output_type": "stream",
     "text": [
      "Дополнительные статистики:\n",
      "Межквартильный размах (IQR): 8.1 минут\n",
      "Границы выбросов (1.5*IQR): [1.4, 33.9] минут\n"
     ]
    }
   ],
   "source": [
    "# Создаем фигуру с двумя subplots\n",
    "fig, (ax1, ax2) = plt.subplots(2, 1, figsize=(14, 10))\n",
    "\n",
    "# Гистограмма\n",
    "sns.histplot(\n",
    "    data=rides,\n",
    "    x='duration',\n",
    "    bins=np.linspace(0, 120, 25),\n",
    "    kde=True,\n",
    "    color='#4e79a7',\n",
    "    stat='probability',\n",
    "    alpha=0.7,\n",
    "    ax=ax1\n",
    ")\n",
    "ax1.yaxis.set_major_formatter(PercentFormatter(1.0))\n",
    "mean = rides['duration'].mean()\n",
    "median = rides['duration'].median()\n",
    "ax1.axvline(mean, color='#f28e2b', linestyle='--', label=f'Среднее: {mean:.1f} мин')\n",
    "ax1.axvline(median, color='#59a14f', linestyle='--', label=f'Медиана: {median:.1f} мин')\n",
    "ax1.set_title('Распределение продолжительности поездок', fontsize=14)\n",
    "ax1.set_xlabel('Продолжительность (минут)')\n",
    "ax1.set_ylabel('Доля поездок (%)')\n",
    "ax1.set_xlim(0, 41)\n",
    "ax1.legend()\n",
    "ax1.grid(axis='y', alpha=0.3)\n",
    "\n",
    "# Добавляем boxplot\n",
    "sns.boxplot(\n",
    "    x=rides['duration'],\n",
    "    color='#4e79a7',\n",
    "    width=0.4,\n",
    "    ax=ax2,\n",
    "    showfliers=False  # Не показываем выбросы для наглядности\n",
    ")\n",
    "ax2.set_title('Boxplot продолжительности поездок', fontsize=14)\n",
    "ax2.set_xlabel('Продолжительность (минут)')\n",
    "ax2.grid(axis='x', alpha=0.3)\n",
    "\n",
    "# Добавляем аннотации с квантилями\n",
    "q25, q75 = rides['duration'].quantile([0.25, 0.75])\n",
    "ax2.annotate(f'25%: {q25:.1f} мин', xy=(q25, 0), xytext=(q25-5, 0.3), \n",
    "             arrowprops=dict(arrowstyle=\"->\"))\n",
    "ax2.annotate(f'75%: {q75:.1f} мин', xy=(q75, 0), xytext=(q75+2, 0.3), \n",
    "             arrowprops=dict(arrowstyle=\"->\"))\n",
    "\n",
    "plt.tight_layout()\n",
    "plt.show()\n",
    "\n",
    "# Вывод статистик\n",
    "print(\"Дополнительные статистики:\")\n",
    "print(f\"Межквартильный размах (IQR): {q75-q25:.1f} минут\")\n",
    "print(f\"Границы выбросов (1.5*IQR): [{q25-1.5*(q75-q25):.1f}, {q75+1.5*(q75-q25):.1f}] минут\")"
   ]
  },
  {
   "cell_type": "markdown",
   "id": "7f648108",
   "metadata": {},
   "source": [
    "Основные характеристики распределения:\n",
    "Форма распределения: Нормальное (колоколообразное) распределение с легкой правосторонней асимметрией;\n",
    "Пик распределения: Находится около 17-18 минут, что соответствует медиане (17.7 мин) и среднему (17.8 мин);\n",
    "Разброс данных:\n",
    "Основная масса поездок сосредоточена между 15 и 20 минутами.\n",
    "Межквартильный размах (IQR): 8.1 минут\n",
    "25% поездок длятся ≤13.6 минут\n",
    "50% поездок: 13.6-21.7 минут\n",
    "25% поездок: ≥21.7 минут\n",
    "Основная масса поездок (в пределах 1.5*IQR): 1.4-33.9 минут"
   ]
  },
  {
   "cell_type": "markdown",
   "id": "e1551203",
   "metadata": {},
   "source": [
    "**Выводы по разделу 3: Исследовательский анализ данных**\n",
    "\n",
    "Анализ пользователей:\n",
    "Основная часть пользователей возрастом от 22 до 28 лет. Все что меньше 15 лет и больше 40 можно считать редкими значениями.\n",
    "Большинство пользователей сосредоточено в Пятигорске и Екатеринбурге.\n",
    "Подпиской ultra пользуются около половины клиентов.\n",
    "\n",
    "Характеристики поездок:\n",
    "\n",
    "Основная часть поездок занимает от 2500 до 3800 метров. Медиана 3133 метра, что близко к оптимальному для износа самокатов (3130 м). Поездки на расстояние более 5 км редки. Однако на гистограмме видно, что некоторая часть пользователей использует самокаты для коротких поездок - до 1500 м.\n",
    "Средняя продолжительность — 17.8 минут; пользователи ultra тратят немного больше времени.\n",
    "Обнаружен вторичный пик коротких поездок (500-1500 м), что указывает на потенциальный спрос на специальный тариф.\n",
    "\n",
    "Сравнение подписок:\n",
    "Пользователи ultra в среднем генерируют большую выручку, несмотря на их малое количество.\n",
    "\n",
    "Рекомендации:\n",
    "Ввести специальный тариф для коротких поездок (500-1500 м).\n",
    "Увеличивать конверсию в подписку ultra через пробные периоды и персонализированные предложения.\n",
    "Расширить географию сервиса в других городах."
   ]
  },
  {
   "cell_type": "markdown",
   "id": "4ef51331",
   "metadata": {},
   "source": [
    "#### Шаг 4. Объединение данных"
   ]
  },
  {
   "cell_type": "markdown",
   "id": "6102f304",
   "metadata": {},
   "source": [
    "##### Объедините данные о пользователях, поездках и подписках в один датафрейм. Для этого воспользуйтесь методом merge()"
   ]
  },
  {
   "cell_type": "code",
   "execution_count": 34,
   "id": "04ed37ed",
   "metadata": {},
   "outputs": [
    {
     "name": "stdout",
     "output_type": "stream",
     "text": [
      "Размеры датасетов ДО объединения:\n",
      "users: (1534, 5) (строки, столбцы)\n",
      "rides: (18068, 5)\n",
      "subscriptions: (2, 4)\n",
      "\n",
      "Размеры датасетов ПОСЛЕ объединения:\n",
      "Результирующий датафрейм: (18068, 12)\n",
      "Ожидаемый размер (по rides): 18068 строк\n",
      "\n",
      "Проверка:\n",
      "Строк потеряно: 0\n",
      "Столбцов добавлено: 7\n",
      "\n",
      "Проверка покрытия пользователей:\n",
      "Уникальных user_id в rides: 1534\n",
      "Уникальных user_id в users: 1534\n",
      "Несовпадающих user_id: 0\n",
      "\n",
      "Первые строки объединенного датафрейма:\n"
     ]
    },
    {
     "data": {
      "text/html": [
       "<div>\n",
       "<style scoped>\n",
       "    .dataframe tbody tr th:only-of-type {\n",
       "        vertical-align: middle;\n",
       "    }\n",
       "\n",
       "    .dataframe tbody tr th {\n",
       "        vertical-align: top;\n",
       "    }\n",
       "\n",
       "    .dataframe thead th {\n",
       "        text-align: right;\n",
       "    }\n",
       "</style>\n",
       "<table border=\"1\" class=\"dataframe\">\n",
       "  <thead>\n",
       "    <tr style=\"text-align: right;\">\n",
       "      <th></th>\n",
       "      <th>user_id</th>\n",
       "      <th>distance</th>\n",
       "      <th>duration</th>\n",
       "      <th>date</th>\n",
       "      <th>month</th>\n",
       "      <th>name</th>\n",
       "      <th>age</th>\n",
       "      <th>city</th>\n",
       "      <th>subscription_type</th>\n",
       "      <th>minute_price</th>\n",
       "      <th>start_ride_price</th>\n",
       "      <th>subscription_fee</th>\n",
       "    </tr>\n",
       "  </thead>\n",
       "  <tbody>\n",
       "    <tr>\n",
       "      <th>0</th>\n",
       "      <td>1</td>\n",
       "      <td>4409.919140</td>\n",
       "      <td>25.599769</td>\n",
       "      <td>2021-01-01</td>\n",
       "      <td>1</td>\n",
       "      <td>Кира</td>\n",
       "      <td>22</td>\n",
       "      <td>Тюмень</td>\n",
       "      <td>ultra</td>\n",
       "      <td>6</td>\n",
       "      <td>0</td>\n",
       "      <td>199</td>\n",
       "    </tr>\n",
       "    <tr>\n",
       "      <th>1</th>\n",
       "      <td>1</td>\n",
       "      <td>2617.592153</td>\n",
       "      <td>15.816871</td>\n",
       "      <td>2021-01-18</td>\n",
       "      <td>1</td>\n",
       "      <td>Кира</td>\n",
       "      <td>22</td>\n",
       "      <td>Тюмень</td>\n",
       "      <td>ultra</td>\n",
       "      <td>6</td>\n",
       "      <td>0</td>\n",
       "      <td>199</td>\n",
       "    </tr>\n",
       "  </tbody>\n",
       "</table>\n",
       "</div>"
      ],
      "text/plain": [
       "   user_id     distance   duration       date  month  name  age    city  \\\n",
       "0        1  4409.919140  25.599769 2021-01-01      1  Кира   22  Тюмень   \n",
       "1        1  2617.592153  15.816871 2021-01-18      1  Кира   22  Тюмень   \n",
       "\n",
       "  subscription_type  minute_price  start_ride_price  subscription_fee  \n",
       "0             ultra             6                 0               199  \n",
       "1             ultra             6                 0               199  "
      ]
     },
     "metadata": {},
     "output_type": "display_data"
    }
   ],
   "source": [
    "# Проверка исходных размеров\n",
    "print(\"Размеры датасетов ДО объединения:\")\n",
    "print(f\"users: {users.shape} (строки, столбцы)\")\n",
    "print(f\"rides: {rides.shape}\")\n",
    "print(f\"subscriptions: {subscriptions.shape}\\n\")\n",
    "\n",
    "# Объединяем данные\n",
    "data = rides.merge(\n",
    "    users,\n",
    "    on='user_id',\n",
    "    how='left'\n",
    ").merge(\n",
    "    subscriptions,\n",
    "    on='subscription_type',\n",
    "    how='left'\n",
    ")\n",
    "\n",
    "# Проверка результатов объединения\n",
    "print(\"Размеры датасетов ПОСЛЕ объединения:\")\n",
    "print(f\"Результирующий датафрейм: {data.shape}\")\n",
    "print(f\"Ожидаемый размер (по rides): {rides.shape[0]} строк\")\n",
    "print(\"\\nПроверка:\")\n",
    "print(f\"Строк потеряно: {rides.shape[0] - data.shape[0]}\")\n",
    "print(f\"Столбцов добавлено: {data.shape[1] - rides.shape[1]}\\n\")\n",
    "\n",
    "# Проверка уникальных пользователей\n",
    "print(\"Проверка покрытия пользователей:\")\n",
    "print(f\"Уникальных user_id в rides: {rides['user_id'].nunique()}\")\n",
    "print(f\"Уникальных user_id в users: {users['user_id'].nunique()}\")\n",
    "print(f\"Несовпадающих user_id: {len(set(rides['user_id']) - set(users['user_id']))}\")\n",
    "\n",
    "# Пример первых строк объединенных данных\n",
    "print(\"\\nПервые строки объединенного датафрейма:\")\n",
    "display(data.head(2))"
   ]
  },
  {
   "cell_type": "markdown",
   "id": "d11048eb",
   "metadata": {},
   "source": [
    "##### Создайте ещё два датафрейма из датафрейма, созданного на этапе 4.1:\n",
    "c данными о пользователях без подписки;\n",
    "с данными о пользователях с подпиской."
   ]
  },
  {
   "cell_type": "code",
   "execution_count": 35,
   "id": "13111152",
   "metadata": {},
   "outputs": [
    {
     "name": "stdout",
     "output_type": "stream",
     "text": [
      "Количество записей с подпиской free: 11568\n",
      "Количество записей с подпиской ultra: 6500\n",
      "Совпадение суммы: True\n",
      "\n",
      "Первые строки созданных датафреймов:\n"
     ]
    },
    {
     "data": {
      "text/html": [
       "<div>\n",
       "<style scoped>\n",
       "    .dataframe tbody tr th:only-of-type {\n",
       "        vertical-align: middle;\n",
       "    }\n",
       "\n",
       "    .dataframe tbody tr th {\n",
       "        vertical-align: top;\n",
       "    }\n",
       "\n",
       "    .dataframe thead th {\n",
       "        text-align: right;\n",
       "    }\n",
       "</style>\n",
       "<table border=\"1\" class=\"dataframe\">\n",
       "  <thead>\n",
       "    <tr style=\"text-align: right;\">\n",
       "      <th></th>\n",
       "      <th>user_id</th>\n",
       "      <th>distance</th>\n",
       "      <th>duration</th>\n",
       "      <th>date</th>\n",
       "      <th>month</th>\n",
       "      <th>name</th>\n",
       "      <th>age</th>\n",
       "      <th>city</th>\n",
       "      <th>subscription_type</th>\n",
       "      <th>minute_price</th>\n",
       "      <th>start_ride_price</th>\n",
       "      <th>subscription_fee</th>\n",
       "    </tr>\n",
       "  </thead>\n",
       "  <tbody>\n",
       "    <tr>\n",
       "      <th>6500</th>\n",
       "      <td>700</td>\n",
       "      <td>2515.690719</td>\n",
       "      <td>14.944286</td>\n",
       "      <td>2021-01-02</td>\n",
       "      <td>1</td>\n",
       "      <td>Айдар</td>\n",
       "      <td>22</td>\n",
       "      <td>Омск</td>\n",
       "      <td>free</td>\n",
       "      <td>8</td>\n",
       "      <td>50</td>\n",
       "      <td>0</td>\n",
       "    </tr>\n",
       "    <tr>\n",
       "      <th>6501</th>\n",
       "      <td>700</td>\n",
       "      <td>846.932642</td>\n",
       "      <td>16.234663</td>\n",
       "      <td>2021-02-01</td>\n",
       "      <td>2</td>\n",
       "      <td>Айдар</td>\n",
       "      <td>22</td>\n",
       "      <td>Омск</td>\n",
       "      <td>free</td>\n",
       "      <td>8</td>\n",
       "      <td>50</td>\n",
       "      <td>0</td>\n",
       "    </tr>\n",
       "  </tbody>\n",
       "</table>\n",
       "</div>"
      ],
      "text/plain": [
       "      user_id     distance   duration       date  month   name  age  city  \\\n",
       "6500      700  2515.690719  14.944286 2021-01-02      1  Айдар   22  Омск   \n",
       "6501      700   846.932642  16.234663 2021-02-01      2  Айдар   22  Омск   \n",
       "\n",
       "     subscription_type  minute_price  start_ride_price  subscription_fee  \n",
       "6500              free             8                50                 0  \n",
       "6501              free             8                50                 0  "
      ]
     },
     "metadata": {},
     "output_type": "display_data"
    },
    {
     "data": {
      "text/html": [
       "<div>\n",
       "<style scoped>\n",
       "    .dataframe tbody tr th:only-of-type {\n",
       "        vertical-align: middle;\n",
       "    }\n",
       "\n",
       "    .dataframe tbody tr th {\n",
       "        vertical-align: top;\n",
       "    }\n",
       "\n",
       "    .dataframe thead th {\n",
       "        text-align: right;\n",
       "    }\n",
       "</style>\n",
       "<table border=\"1\" class=\"dataframe\">\n",
       "  <thead>\n",
       "    <tr style=\"text-align: right;\">\n",
       "      <th></th>\n",
       "      <th>user_id</th>\n",
       "      <th>distance</th>\n",
       "      <th>duration</th>\n",
       "      <th>date</th>\n",
       "      <th>month</th>\n",
       "      <th>name</th>\n",
       "      <th>age</th>\n",
       "      <th>city</th>\n",
       "      <th>subscription_type</th>\n",
       "      <th>minute_price</th>\n",
       "      <th>start_ride_price</th>\n",
       "      <th>subscription_fee</th>\n",
       "    </tr>\n",
       "  </thead>\n",
       "  <tbody>\n",
       "    <tr>\n",
       "      <th>0</th>\n",
       "      <td>1</td>\n",
       "      <td>4409.919140</td>\n",
       "      <td>25.599769</td>\n",
       "      <td>2021-01-01</td>\n",
       "      <td>1</td>\n",
       "      <td>Кира</td>\n",
       "      <td>22</td>\n",
       "      <td>Тюмень</td>\n",
       "      <td>ultra</td>\n",
       "      <td>6</td>\n",
       "      <td>0</td>\n",
       "      <td>199</td>\n",
       "    </tr>\n",
       "    <tr>\n",
       "      <th>1</th>\n",
       "      <td>1</td>\n",
       "      <td>2617.592153</td>\n",
       "      <td>15.816871</td>\n",
       "      <td>2021-01-18</td>\n",
       "      <td>1</td>\n",
       "      <td>Кира</td>\n",
       "      <td>22</td>\n",
       "      <td>Тюмень</td>\n",
       "      <td>ultra</td>\n",
       "      <td>6</td>\n",
       "      <td>0</td>\n",
       "      <td>199</td>\n",
       "    </tr>\n",
       "  </tbody>\n",
       "</table>\n",
       "</div>"
      ],
      "text/plain": [
       "   user_id     distance   duration       date  month  name  age    city  \\\n",
       "0        1  4409.919140  25.599769 2021-01-01      1  Кира   22  Тюмень   \n",
       "1        1  2617.592153  15.816871 2021-01-18      1  Кира   22  Тюмень   \n",
       "\n",
       "  subscription_type  minute_price  start_ride_price  subscription_fee  \n",
       "0             ultra             6                 0               199  \n",
       "1             ultra             6                 0               199  "
      ]
     },
     "metadata": {},
     "output_type": "display_data"
    }
   ],
   "source": [
    "# Создаем датафрейм с пользователями БЕЗ подписки (free)\n",
    "data_free = data[data['subscription_type'] == 'free'].copy()\n",
    "\n",
    "# Создаем датафрейм с пользователями С подпиской (ultra)\n",
    "data_ultra = data[data['subscription_type'] == 'ultra'].copy()\n",
    "\n",
    "# Проверка результатов\n",
    "print(f\"Количество записей с подпиской free: {len(data_free)}\")\n",
    "print(f\"Количество записей с подпиской ultra: {len(data_ultra)}\")\n",
    "print(f\"Совпадение суммы: {len(data_free) + len(data_ultra) == len(data)}\")\n",
    "\n",
    "# Пример первых строк созданных данных\n",
    "print(\"\\nПервые строки созданных датафреймов:\")\n",
    "display(data_free.head(2))\n",
    "display(data_ultra.head(2))"
   ]
  },
  {
   "cell_type": "markdown",
   "id": "f7e3a9b4",
   "metadata": {},
   "source": [
    "##### Визуализируйте информацию о расстоянии и времени поездок для пользователей обеих категорий"
   ]
  },
  {
   "cell_type": "code",
   "execution_count": 36,
   "id": "693417ba",
   "metadata": {},
   "outputs": [
    {
     "data": {
      "image/png": "[encoded data removed]",
      "text/plain": [
       "<Figure size 1400x600 with 1 Axes>"
      ]
     },
     "metadata": {},
     "output_type": "display_data"
    }
   ],
   "source": [
    "# Настройка стиля графиков\n",
    "sns.set(style=\"whitegrid\")\n",
    "plt.figure(figsize=(14, 6))\n",
    "\n",
    "# Гистограмма расстояний\n",
    "plt.subplot(1, 2, 1)\n",
    "sns.histplot(\n",
    "    data=data_free,\n",
    "    x='distance',\n",
    "    color='skyblue',\n",
    "    label='Free',\n",
    "    kde=True,\n",
    "    bins=30,\n",
    "    alpha=0.5\n",
    ")\n",
    "sns.histplot(\n",
    "    data=data_ultra,\n",
    "    x='distance',\n",
    "    color='orange',\n",
    "    label='Ultra',\n",
    "    kde=True,\n",
    "    bins=30,\n",
    "    alpha=0.5\n",
    ")\n",
    "plt.title('Распределение расстояния поездок')\n",
    "plt.xlabel('Расстояние (метры)')\n",
    "plt.ylabel('Количество поездок')\n",
    "plt.legend();"
   ]
  },
  {
   "cell_type": "code",
   "execution_count": 37,
   "id": "6fa76621",
   "metadata": {},
   "outputs": [
    {
     "data": {
      "image/png": "[encoded data removed]",
      "text/plain": [
       "<Figure size 640x480 with 1 Axes>"
      ]
     },
     "metadata": {},
     "output_type": "display_data"
    }
   ],
   "source": [
    "# Гистограмма продолжительности\n",
    "plt.subplot(1, 2, 2)\n",
    "sns.histplot(\n",
    "    data=data_free,\n",
    "    x='duration',\n",
    "    color='skyblue',\n",
    "    label='Free',\n",
    "    kde=True,\n",
    "    bins=30,\n",
    "    alpha=0.5\n",
    ")\n",
    "sns.histplot(\n",
    "    data=data_ultra,\n",
    "    x='duration',\n",
    "    color='orange',\n",
    "    label='Ultra',\n",
    "    kde=True,\n",
    "    bins=30,\n",
    "    alpha=0.5\n",
    ")\n",
    "plt.title('Распределение времени поездок')\n",
    "plt.xlabel('Время (минуты)')\n",
    "plt.ylabel('Количество поездок')\n",
    "plt.legend()\n",
    "\n",
    "plt.tight_layout()\n",
    "plt.show()"
   ]
  },
  {
   "cell_type": "code",
   "execution_count": 38,
   "id": "5f2b4891",
   "metadata": {},
   "outputs": [
    {
     "data": {
      "image/png": "[encoded data removed]",
      "text/plain": [
       "<Figure size 1400x600 with 2 Axes>"
      ]
     },
     "metadata": {},
     "output_type": "display_data"
    }
   ],
   "source": [
    "# Настройка общего стиля графиков с использованием Seaborn\n",
    "sns.set_style('darkgrid')\n",
    "\n",
    "# Создание фигуры и двух подграфиков (один ряд, два столбца)\n",
    "# figsize=(14, 6) - ширина 14 дюймов, высота 6 дюймов\n",
    "plt.figure(figsize=(14, 6))\n",
    "\n",
    "# ---- Первый подграфик: Boxplot для 'distance' (расстояние) ----\n",
    "plt.subplot(1, 2, 1) # Указываем расположение: 1 строка, 2 столбца, первый график\n",
    "sns.boxplot(\n",
    "    x='subscription_type', # Переменная по оси X (типы подписки)\n",
    "    y='distance',          # Переменная по оси Y (расстояние)\n",
    "    data=data,             # DataFrame, содержащий данные\n",
    "    palette=['skyblue', 'orange'], # Цветовая палитра для разных типов подписки\n",
    "    hue='subscription_type' # Использование 'subscription_type' для раскраски\n",
    ")\n",
    "plt.title('Распределение расстояния по типам подписки') # Заголовок графика\n",
    "plt.xlabel('Тип подписки') # Подпись оси X\n",
    "plt.ylabel('Расстояние (метры)') # Подпись оси Y\n",
    "\n",
    "# ---- Второй подграфик: Boxplot для 'duration' (продолжительность) ----\n",
    "plt.subplot(1, 2, 2) # Указываем расположение: 1 строка, 2 столбца, второй график\n",
    "sns.boxplot(\n",
    "    x='subscription_type', # Переменная по оси X (типы подписки)\n",
    "    y='duration',          # Переменная по оси Y (продолжительность)\n",
    "    data=data,             # DataFrame, содержащий данные\n",
    "    palette=['skyblue', 'orange'], # Цветовая палитра для разных типов подписки\n",
    "    hue='subscription_type' # Использование 'subscription_type' для раскраски\n",
    ")\n",
    "plt.title('Распределение времени по типам подписки') # Заголовок графика\n",
    "plt.xlabel('Тип подписки') # Подпись оси X\n",
    "plt.ylabel('Время (минуты)') # Подпись оси Y\n",
    "\n",
    "# Автоматическая корректировка расположения подграфиков для предотвращения наложений\n",
    "plt.tight_layout()\n",
    "\n",
    "# Сохранение графика в файл\n",
    "plt.savefig('distance_duration_boxplots.png')"
   ]
  },
  {
   "cell_type": "markdown",
   "id": "15c94dbf",
   "metadata": {},
   "source": [
    "***Анализ визуализаций распределения поездок***\n",
    "\n",
    "**Распределение расстояния**\n",
    "Основные наблюдения:\n",
    "Основной пик: 2500-3000 м (типичная поездка)\n",
    "Вторичный пик: 500-1000 м (короткие поездки)\n",
    "У пользователей без подписки значительно больше коротких поездок - до 1 км и в целом максимальная дальность поездки выше, чем у платных пользователей.\n",
    "\n",
    "**Распределение времени**\n",
    "Ключевые паттерны:\n",
    "Основная масса поездок: 15-25 минут\n",
    "Пиковое значение: 18-20 минут\n",
    "\n",
    "**Сравнение по подпискам**\n",
    "По расстоянию:\n",
    "Ultra-пользователи:\n",
    "Медиана: ~3100 м (примерно равна медиане free)\n",
    "Более узкий IQR (2900-3600) м\n",
    "\n",
    "Free-пользователи:\n",
    "Медиана: ~3100 м\n",
    "Концентрация на 2200-3900 м\n",
    "\n",
    "По времени:\n",
    "Ultra-пользователи:\n",
    "Медиана: 18 мин (примерно равна медиане free)\n",
    "\n",
    "Free-пользователи:\n",
    "Медиана: 17 мин\n",
    "\n",
    "Выявленные аномалии:\n",
    "Вторичный пик на 500-1000 м\n",
    "Гипотеза: специальные короткие маршруты (например, между станциями)\n",
    "\n",
    "Рекомендации для бизнеса:\n",
    "Ввести спецтариф для коротких поездок (500-1000 м)"
   ]
  },
  {
   "cell_type": "markdown",
   "id": "402d620f",
   "metadata": {},
   "source": [
    "#### Шаг 5. Подсчёт выручки"
   ]
  },
  {
   "cell_type": "markdown",
   "id": "8fa9e8bb",
   "metadata": {},
   "source": [
    "##### Создайте датафрейм с агрегированными данными о поездках на основе датафрейма с объединёнными данными из шага 4: найдите суммарное расстояние, количество поездок и суммарное время для каждого пользователя за каждый месяц."
   ]
  },
  {
   "cell_type": "code",
   "execution_count": 39,
   "id": "723c6271",
   "metadata": {},
   "outputs": [
    {
     "name": "stdout",
     "output_type": "stream",
     "text": [
      "   user_id subscription_type  year  month  total_distance  ride_count  \\\n",
      "0        1             ultra  2021      1     7027.511294           2   \n",
      "1        1             ultra  2021      4      754.159807           1   \n",
      "2        1             ultra  2021      8     6723.470560           2   \n",
      "3        1             ultra  2021     10     5809.911100           2   \n",
      "4        1             ultra  2021     11     7003.499363           3   \n",
      "\n",
      "   total_duration  \n",
      "0            42.0  \n",
      "1             7.0  \n",
      "2            46.0  \n",
      "3            32.0  \n",
      "4            56.0  \n"
     ]
    }
   ],
   "source": [
    "# Округление продолжительности поездки вверх до ближайшего целого числа\n",
    "data['duration_ceil'] = np.ceil(data['duration'])\n",
    "\n",
    "# Создание отдельных колонок для года и месяца для агрегации\n",
    "data['year'] = data['date'].dt.year\n",
    "data['month'] = data['date'].dt.month # Используем числовой месяц\n",
    "\n",
    "# Агрегация данных по пользователям, типу подписки, году и месяцу\n",
    "monthly_agg = (\n",
    "    data.groupby(['user_id', 'subscription_type', 'year', 'month'])\n",
    "    .agg(\n",
    "        total_distance=('distance', 'sum'),\n",
    "        ride_count=('user_id', 'count'),\n",
    "        total_duration=('duration_ceil', 'sum')\n",
    "    )\n",
    "    .reset_index()\n",
    ")\n",
    "\n",
    "# Вывод первых строк агрегированных данных для проверки\n",
    "print(monthly_agg.head())"
   ]
  },
  {
   "cell_type": "markdown",
   "id": "ce03c025",
   "metadata": {},
   "source": [
    "Проверим созданный датафрейм на наличие пропусков"
   ]
  },
  {
   "cell_type": "code",
   "execution_count": 40,
   "id": "dc5a1f96",
   "metadata": {},
   "outputs": [
    {
     "name": "stdout",
     "output_type": "stream",
     "text": [
      "Проверка пропусков в сводной таблице:\n",
      "user_id              0\n",
      "subscription_type    0\n",
      "year                 0\n",
      "month                0\n",
      "total_distance       0\n",
      "ride_count           0\n",
      "total_duration       0\n",
      "dtype: int64\n"
     ]
    }
   ],
   "source": [
    "print(\"Проверка пропусков в сводной таблице:\")\n",
    "print(monthly_agg.isna().sum())"
   ]
  },
  {
   "cell_type": "markdown",
   "id": "19aaeb53",
   "metadata": {},
   "source": [
    "Пропуски не обнаружены"
   ]
  },
  {
   "cell_type": "markdown",
   "id": "236d785a",
   "metadata": {},
   "source": [
    "##### В этот же датафрейм добавьте столбец с помесячной выручкой, которую принёс каждый пользователь. Для этого обратитесь к информации об условиях оплаты для подписчиков и тех, у кого нет подписки. Продолжительность каждой поездки в каждой строке исходного датафрейма для подсчёта стоимости округляется до следующего целого числа: например, значения 25.3, 25.5 и 26.0 должны быть преобразованы к 26."
   ]
  },
  {
   "cell_type": "code",
   "execution_count": 41,
   "id": "99b6a959",
   "metadata": {},
   "outputs": [
    {
     "name": "stdout",
     "output_type": "stream",
     "text": [
      "Итоговый датафрейм с выручкой:\n"
     ]
    },
    {
     "data": {
      "text/html": [
       "<div>\n",
       "<style scoped>\n",
       "    .dataframe tbody tr th:only-of-type {\n",
       "        vertical-align: middle;\n",
       "    }\n",
       "\n",
       "    .dataframe tbody tr th {\n",
       "        vertical-align: top;\n",
       "    }\n",
       "\n",
       "    .dataframe thead th {\n",
       "        text-align: right;\n",
       "    }\n",
       "</style>\n",
       "<table border=\"1\" class=\"dataframe\">\n",
       "  <thead>\n",
       "    <tr style=\"text-align: right;\">\n",
       "      <th></th>\n",
       "      <th>user_id</th>\n",
       "      <th>subscription_type</th>\n",
       "      <th>year</th>\n",
       "      <th>month</th>\n",
       "      <th>total_distance</th>\n",
       "      <th>ride_count</th>\n",
       "      <th>total_duration</th>\n",
       "      <th>revenue</th>\n",
       "    </tr>\n",
       "  </thead>\n",
       "  <tbody>\n",
       "    <tr>\n",
       "      <th>0</th>\n",
       "      <td>1</td>\n",
       "      <td>ultra</td>\n",
       "      <td>2021</td>\n",
       "      <td>1</td>\n",
       "      <td>7027.511294</td>\n",
       "      <td>2</td>\n",
       "      <td>42.0</td>\n",
       "      <td>451.0</td>\n",
       "    </tr>\n",
       "    <tr>\n",
       "      <th>1</th>\n",
       "      <td>1</td>\n",
       "      <td>ultra</td>\n",
       "      <td>2021</td>\n",
       "      <td>4</td>\n",
       "      <td>754.159807</td>\n",
       "      <td>1</td>\n",
       "      <td>7.0</td>\n",
       "      <td>241.0</td>\n",
       "    </tr>\n",
       "    <tr>\n",
       "      <th>2</th>\n",
       "      <td>1</td>\n",
       "      <td>ultra</td>\n",
       "      <td>2021</td>\n",
       "      <td>8</td>\n",
       "      <td>6723.470560</td>\n",
       "      <td>2</td>\n",
       "      <td>46.0</td>\n",
       "      <td>475.0</td>\n",
       "    </tr>\n",
       "    <tr>\n",
       "      <th>3</th>\n",
       "      <td>1</td>\n",
       "      <td>ultra</td>\n",
       "      <td>2021</td>\n",
       "      <td>10</td>\n",
       "      <td>5809.911100</td>\n",
       "      <td>2</td>\n",
       "      <td>32.0</td>\n",
       "      <td>391.0</td>\n",
       "    </tr>\n",
       "    <tr>\n",
       "      <th>4</th>\n",
       "      <td>1</td>\n",
       "      <td>ultra</td>\n",
       "      <td>2021</td>\n",
       "      <td>11</td>\n",
       "      <td>7003.499363</td>\n",
       "      <td>3</td>\n",
       "      <td>56.0</td>\n",
       "      <td>535.0</td>\n",
       "    </tr>\n",
       "  </tbody>\n",
       "</table>\n",
       "</div>"
      ],
      "text/plain": [
       "   user_id subscription_type  year  month  total_distance  ride_count  \\\n",
       "0        1             ultra  2021      1     7027.511294           2   \n",
       "1        1             ultra  2021      4      754.159807           1   \n",
       "2        1             ultra  2021      8     6723.470560           2   \n",
       "3        1             ultra  2021     10     5809.911100           2   \n",
       "4        1             ultra  2021     11     7003.499363           3   \n",
       "\n",
       "   total_duration  revenue  \n",
       "0            42.0    451.0  \n",
       "1             7.0    241.0  \n",
       "2            46.0    475.0  \n",
       "3            32.0    391.0  \n",
       "4            56.0    535.0  "
      ]
     },
     "metadata": {},
     "output_type": "display_data"
    }
   ],
   "source": [
    "# Расчет выручки\n",
    "def calculate_revenue(row):\n",
    "    sub_info = subscriptions[subscriptions['subscription_type'] == row['subscription_type']].iloc[0]\n",
    "    return (\n",
    "        row['ride_count'] * sub_info['start_ride_price'] +\n",
    "        row['total_duration'] * sub_info['minute_price'] +\n",
    "        sub_info['subscription_fee']\n",
    "    )\n",
    "\n",
    "monthly_agg['revenue'] = monthly_agg.apply(calculate_revenue, axis=1)\n",
    "\n",
    "# Проверка результата\n",
    "print(\"Итоговый датафрейм с выручкой:\")\n",
    "display(monthly_agg.head())"
   ]
  },
  {
   "cell_type": "markdown",
   "id": "41545ac0",
   "metadata": {},
   "source": [
    "#### Шаг 6. Проверка гипотез"
   ]
  },
  {
   "cell_type": "markdown",
   "id": "d439b077",
   "metadata": {},
   "source": [
    "**Продакт-менеджеры сервиса хотят увеличить количество пользователей с подпиской. Для этого они будут проводить различные акции, но сначала нужно выяснить несколько важных моментов.**"
   ]
  },
  {
   "cell_type": "markdown",
   "id": "085a1cdb",
   "metadata": {},
   "source": [
    "##### Важно понять, тратят ли пользователи с подпиской больше времени на поездки? Если да, то пользователи с подпиской могут быть «выгоднее» для компании. Проверьте гипотезу. Используйте исходные данные о продолжительности каждой сессии — отдельно для подписчиков и тех, у кого нет подписки"
   ]
  },
  {
   "cell_type": "markdown",
   "id": "cc2b83db",
   "metadata": {},
   "source": []
  },
  {
   "cell_type": "code",
   "execution_count": 42,
   "id": "cf64f081",
   "metadata": {},
   "outputs": [
    {
     "name": "stdout",
     "output_type": "stream",
     "text": [
      "Средняя продолжительность поездок:\n",
      "Free: 17.4 минут\n",
      "Ultra: 18.5 минут\n",
      "\n",
      "Медианная продолжительность:\n",
      "Free: 17.3 минут\n",
      "Ultra: 18.2 минут\n"
     ]
    }
   ],
   "source": [
    "# Разделяем данные по типам подписки\n",
    "duration_free = data[data['subscription_type'] == 'free']['duration']\n",
    "duration_ultra = data[data['subscription_type'] == 'ultra']['duration']\n",
    "\n",
    "# Основные статистики\n",
    "print(\"Средняя продолжительность поездок:\")\n",
    "print(f\"Free: {duration_free.mean():.1f} минут\")\n",
    "print(f\"Ultra: {duration_ultra.mean():.1f} минут\\n\")\n",
    "\n",
    "print(\"Медианная продолжительность:\")\n",
    "print(f\"Free: {duration_free.median():.1f} минут\")\n",
    "print(f\"Ultra: {duration_ultra.median():.1f} минут\")"
   ]
  },
  {
   "cell_type": "markdown",
   "id": "30801084",
   "metadata": {},
   "source": [
    "Гистограмма продолжительности поездок в п. 4.3 показала нормальное распределение, поэтому, для подтверждения или опровержения гипотезы будем использовать двухвыборочный t-тест для независимых выборок. Данный датафрейм содержит 18тыс строк, поэтому можно использовать его целиком, не делая выборку. Сформулируем гипотезы: Нулевая гипотеза (H0): Нет различий в среднем времени поездки между группами. Альтернативная гипотеза (H1): Пользователи ultra тратят больше времени."
   ]
  },
  {
   "cell_type": "code",
   "execution_count": 43,
   "id": "46b69a2c",
   "metadata": {
    "scrolled": true
   },
   "outputs": [
    {
     "name": "stdout",
     "output_type": "stream",
     "text": [
      "\n",
      "Результат t-теста: p-value=5.6757813771289775e-37\n"
     ]
    }
   ],
   "source": [
    "# t-тест\n",
    "t_stat, p_ttest = stats.ttest_ind(data_ultra['duration'], \n",
    "                                 data_free['duration'],\n",
    "                                 equal_var=False,\n",
    "                                 alternative='greater'  # Явно указываем одностороннюю альтернативу\n",
    "                                 )\n",
    "print(f\"\\nРезультат t-теста: p-value={p_ttest:}\")"
   ]
  },
  {
   "cell_type": "markdown",
   "id": "0e6a4f74",
   "metadata": {},
   "source": [
    "Значение p-value близко к нулю, значит мы отвергаем нулевую гипотезу. Вывод: Пользователи ultra тратят больше времени на поездки."
   ]
  },
  {
   "cell_type": "markdown",
   "id": "71ad6b8b",
   "metadata": {},
   "source": [
    "##### Расстояние одной поездки в 3130 метров — оптимальное с точки зрения износа самоката. Можно ли сказать, что среднее расстояние, которое проезжают пользователи с подпиской за одну поездку, не превышает 3130 метров? Проверьте гипотезу и сделайте выводы"
   ]
  },
  {
   "cell_type": "markdown",
   "id": "ba3f639a",
   "metadata": {},
   "source": [
    "Сформулируем гипотезы: Нулевая гипотеза (H0): среднее расстояние = 3130 метров (среднее расстояние равно оптимальному)\n",
    "Альтернативная гипотеза (H1): среднее расстояние > 3130 метров (среднее расстояние превышает оптимальное)\n",
    "Так как анализ производится по дной выборке, будем использовать одновыборочный t-тест."
   ]
  },
  {
   "cell_type": "code",
   "execution_count": 44,
   "id": "23cabe0a",
   "metadata": {},
   "outputs": [
    {
     "name": "stdout",
     "output_type": "stream",
     "text": [
      "Описательная статистика расстояний (ultra):\n",
      "Среднее: 3115.4 м\n",
      "Медиана: 3148.6 м\n",
      "Стандартное отклонение: 836.9 м\n",
      "Количество поездок: 6500\n"
     ]
    }
   ],
   "source": [
    "# Выборка расстояний для ultra-пользователей\n",
    "ultra_distances = data_ultra['distance']\n",
    "\n",
    "# Описательная статистика\n",
    "print(\"Описательная статистика расстояний (ultra):\")\n",
    "print(f\"Среднее: {ultra_distances.mean():.1f} м\")\n",
    "print(f\"Медиана: {ultra_distances.median():.1f} м\")\n",
    "print(f\"Стандартное отклонение: {ultra_distances.std():.1f} м\")\n",
    "print(f\"Количество поездок: {len(ultra_distances)}\")"
   ]
  },
  {
   "cell_type": "code",
   "execution_count": 45,
   "id": "22a5a98c",
   "metadata": {},
   "outputs": [
    {
     "name": "stdout",
     "output_type": "stream",
     "text": [
      "\n",
      "Результат одновыборочного t-теста:\n",
      "t-статистика: -1.402\n",
      "p-value: 0.91954\n"
     ]
    }
   ],
   "source": [
    "# Проверяем, превышает ли среднее 3130 метров\n",
    "t_stat, p_value = stats.ttest_1samp(ultra_distances, 3130, alternative='greater')\n",
    "\n",
    "print(\"\\nРезультат одновыборочного t-теста:\")\n",
    "print(f\"t-статистика: {t_stat:.3f}\")\n",
    "print(f\"p-value: {p_value:.5f}\")"
   ]
  },
  {
   "cell_type": "markdown",
   "id": "c1aabdfe",
   "metadata": {},
   "source": [
    "p-value = 0.91954 существенно превышает стандартный уровень значимости α = 0.05.\n",
    "Отрицательная t-статистика указывает, что выборочное среднее меньше тестового значения (3130 м).\n",
    "\n",
    "Вывод:\n",
    "Не отвергаем нулевую гипотезу (H0).\n",
    "Нет статистических оснований утверждать, что среднее расстояние поездок пользователей с подпиской ultra превышает 3130 метров.\n",
    "Фактически, данные скорее указывают на обратную тенденцию (среднее расстояние 3115 м)."
   ]
  },
  {
   "cell_type": "markdown",
   "id": "43d0d18e",
   "metadata": {},
   "source": [
    "##### Проверьте гипотезу о том, будет ли помесячная выручка от пользователей с подпиской по месяцам выше, чем выручка от пользователей без подписки. Сделайте вывод"
   ]
  },
  {
   "cell_type": "markdown",
   "id": "c6fd0c61",
   "metadata": {},
   "source": [
    "Формулировка гипотез:\n",
    "Нулевая гипотеза (H0): Выручка от Ultra <= Выручка от Free (в среднем по месяцам).\n",
    "Альтернативная гипотеза (H1): Выручка от Ultra > Выручка от Free (в среднем по месяцам)."
   ]
  },
  {
   "cell_type": "code",
   "execution_count": 46,
   "id": "b0d29157",
   "metadata": {},
   "outputs": [
    {
     "data": {
      "image/png": "[encoded data removed]",
      "text/plain": [
       "<Figure size 1200x600 with 1 Axes>"
      ]
     },
     "metadata": {},
     "output_type": "display_data"
    }
   ],
   "source": [
    "# Настройка стиля графика\n",
    "sns.set_style('darkgrid')\n",
    "plt.figure(figsize=(12, 6))\n",
    "\n",
    "# Создаем boxplot\n",
    "ax = sns.boxplot(\n",
    "    data=monthly_agg,\n",
    "    x='month', # Используем уже существующую колонку с номером месяца\n",
    "    y='revenue',\n",
    "    hue='subscription_type',\n",
    "    palette=['skyblue', 'orange'],\n",
    "    showfliers=False # Не показывать выбросы\n",
    ")\n",
    "\n",
    "# Настройка легенды\n",
    "plt.legend(\n",
    "    title='Тип подписки',\n",
    "    loc='upper center',\n",
    "    bbox_to_anchor=(0.9, 1.15),\n",
    "    ncol=2\n",
    ")\n",
    "\n",
    "# Настройка осей и заголовка\n",
    "plt.title('Распределение помесячной выручки по типам подписки', pad=20)\n",
    "plt.xlabel('Номер месяца')\n",
    "plt.ylabel('Выручка (руб)')\n",
    "plt.xticks(rotation=0) # Горизонтальные подписи месяцев\n",
    "\n",
    "# Настройка сетки\n",
    "plt.grid(axis='y', alpha=0.3)\n",
    "\n",
    "# Убираем лишние границы\n",
    "sns.despine()\n",
    "\n",
    "plt.tight_layout()\n",
    "plt.savefig('monthly_revenue_distribution.png') # Сохраняем график в файл"
   ]
  },
  {
   "cell_type": "markdown",
   "id": "867a42b2",
   "metadata": {},
   "source": [
    "Проверим нормальность распределений"
   ]
  },
  {
   "cell_type": "code",
   "execution_count": 47,
   "id": "8cd4fa16",
   "metadata": {
    "scrolled": false
   },
   "outputs": [
    {
     "name": "stdout",
     "output_type": "stream",
     "text": [
      "Тест Шапиро-Уилка (p-value): Free=0.310, Ultra=0.590\n"
     ]
    }
   ],
   "source": [
    "monthly_revenue = monthly_agg.pivot_table(\n",
    "    index=monthly_agg['month'],  # Используем месяц как индекс\n",
    "    columns='subscription_type',  # Разделяем по типам подписки\n",
    "    values='revenue',            # Берем данные о выручке\n",
    "    aggfunc='mean'               # Усредняем по месяцам\n",
    ").reset_index()\n",
    "\n",
    "# Проверим нормальность распределений\n",
    "from scipy.stats import shapiro\n",
    "\n",
    "# Для free-пользователей\n",
    "_, p_free = shapiro(monthly_revenue['free'].dropna())\n",
    "\n",
    "# Для ultra-пользователей\n",
    "_, p_ultra = shapiro(monthly_revenue['ultra'].dropna())\n",
    "\n",
    "print(f\"Тест Шапиро-Уилка (p-value): Free={p_free:.3f}, Ultra={p_ultra:.3f}\")"
   ]
  },
  {
   "cell_type": "markdown",
   "id": "e0a0ba27",
   "metadata": {},
   "source": [
    "p-value > 0.05 для обеих групп, значит распределение нормальное, следовательно, будем использовать t-тест."
   ]
  },
  {
   "cell_type": "markdown",
   "id": "3c6a7208",
   "metadata": {},
   "source": [
    "Проверим, равны ли дисперсии генеральных совокупностей."
   ]
  },
  {
   "cell_type": "code",
   "execution_count": 48,
   "id": "1470a435",
   "metadata": {},
   "outputs": [
    {
     "name": "stdout",
     "output_type": "stream",
     "text": [
      "Тест Левена на равенство дисперсий (p-value): 0.645\n"
     ]
    }
   ],
   "source": [
    "_, p_levene = stats.levene(monthly_revenue['free'].dropna(), \n",
    "                          monthly_revenue['ultra'].dropna())\n",
    "print(f\"Тест Левена на равенство дисперсий (p-value): {p_levene:.3f}\")"
   ]
  },
  {
   "cell_type": "markdown",
   "id": "f48a987b",
   "metadata": {},
   "source": [
    "p-value > 0.05, значит дисперсии равны. Будем использовать t-тест с аргументом equal_var=True (значение по умоланию)."
   ]
  },
  {
   "cell_type": "code",
   "execution_count": 49,
   "id": "b354be21",
   "metadata": {},
   "outputs": [
    {
     "name": "stdout",
     "output_type": "stream",
     "text": [
      "Результат t-теста: p-value=8.517956987709186e-13\n"
     ]
    }
   ],
   "source": [
    "t_stat, p_value = stats.ttest_ind(\n",
    "    monthly_revenue['ultra'].dropna(),\n",
    "    monthly_revenue['free'].dropna(),\n",
    "    alternative='greater'\n",
    ")\n",
    "print(f\"Результат t-теста: p-value={p_value:}\")"
   ]
  },
  {
   "cell_type": "code",
   "execution_count": null,
   "id": "6270c6a9",
   "metadata": {},
   "outputs": [],
   "source": []
  },
  {
   "cell_type": "markdown",
   "id": "1aa1c3a8",
   "metadata": {},
   "source": [
    "Вывод:\n",
    "p-value стремится к 0 - отвергаем нулевую гипотезу (H0).\n",
    "Принимаем альтернативную гипотезу (H1):\n",
    "Средняя помесячная выручка от пользователей с подпиской Ultra статистически значимо выше, чем от пользователей без подписки (Free)."
   ]
  },
  {
   "cell_type": "markdown",
   "id": "a5853c11",
   "metadata": {},
   "source": [
    "##### Представьте такую ситуацию: техническая команда сервиса обновила сервера, с которыми взаимодействует мобильное приложение. Она надеется, что из-за этого количество обращений в техподдержку значимо снизилось. Некоторый файл содержит для каждого пользователя данные о количестве обращений до обновления и после него. Какой тест вам понадобился бы для проверки этой гипотезы?"
   ]
  },
  {
   "cell_type": "markdown",
   "id": "af26d2a6",
   "metadata": {},
   "source": [
    "Так как данные зависимые: у каждого пользователя есть измерения «до» и «после», проверку гипотезы необходимо осуществить двухвыборочным t-тестом для зависимых выборок (scipy.stats.ttest_rel())."
   ]
  },
  {
   "cell_type": "markdown",
   "id": "61213c5e",
   "metadata": {},
   "source": [
    "#### Шаг 7. Распределения"
   ]
  },
  {
   "cell_type": "markdown",
   "id": "c78fd7e9",
   "metadata": {},
   "source": [
    "##### Отделу маркетинга GoFast поставили задачу: нужно провести акцию с раздачей промокодов на один бесплатный месяц подписки, в рамках которой как минимум 100 существующих клиентов должны продлить эту подписку. То есть по завершении периода действия подписки пользователь может либо отказаться от неё, либо продлить, совершив соответствующий платёж"
   ]
  },
  {
   "cell_type": "markdown",
   "id": "de4c759e",
   "metadata": {},
   "source": [
    "Эта акция уже проводилась ранее и по итогу выяснилось, что после бесплатного пробного периода подписку продлевают 10 % пользователей. Выясните, какое минимальное количество промокодов нужно разослать, чтобы вероятность не выполнить план была примерно 5 %. Подберите параметры распределения, описывающего эту ситуацию, постройте график распределения и сформулируйте ответ на вопрос о количестве промокодов."
   ]
  },
  {
   "cell_type": "markdown",
   "id": "973dc34e",
   "metadata": {},
   "source": [
    "Подсказка: Нужно использовать биномиальное распределение, которое описывает указанную ситуацию. Затем подобрать подходящее значение параметра N для заданного параметра p=0.1 с помощью графиков и метода cdf() , сформулировать вывод и ответ."
   ]
  },
  {
   "cell_type": "markdown",
   "id": "00c99626",
   "metadata": {},
   "source": [
    "Условия задачи:\n",
    "Вероятность продления (p) = 10% = 0.1.\n",
    "Требуемое число продлений (k) >= 100.\n",
    "Допустимая вероятность неудачи (alpha) = 5% = 0.05.\n",
    "\n",
    "Выбор модели: Биномиальное распределение (используется для дискретных случайных величин. Носитель: целые чаисла от 0 до n):\n",
    "N — количество промокодов (испытаний),\n",
    "k — число продлений (успехов),\n",
    "p — вероятность успеха (0.1).\n",
    "\n",
    "Формула:\n",
    "P(k>=100)=1−P(k<100)>=0.95\n",
    "\n",
    "Расчет методом cdf() (кумулятивной функции распределения)\n",
    "Найдем N, при котором:\n",
    "\n",
    "P(k<100)=cdf(99;N,0.1)<=0.05"
   ]
  },
  {
   "cell_type": "code",
   "execution_count": 50,
   "id": "0fddec29",
   "metadata": {},
   "outputs": [
    {
     "name": "stdout",
     "output_type": "stream",
     "text": [
      "Минимальное N: 1170\n",
      "P(k < 100) = 0.0416\n"
     ]
    }
   ],
   "source": [
    "p = 0.1\n",
    "alpha = 0.05\n",
    "target = 100\n",
    "\n",
    "# Подбор N\n",
    "N = 1000  # Начальное предположение\n",
    "while True:\n",
    "    prob = binom.cdf(99, N, p)  # P(k < 100)\n",
    "    if prob <= alpha:\n",
    "        break\n",
    "    N += 10  # Шаг поиска\n",
    "\n",
    "print(f\"Минимальное N: {N}\")\n",
    "print(f\"P(k < 100) = {prob:.4f}\")"
   ]
  },
  {
   "cell_type": "markdown",
   "id": "919df9b0",
   "metadata": {},
   "source": [
    "Ответ: Нужно разослать 1170 промокодов."
   ]
  },
  {
   "cell_type": "code",
   "execution_count": 51,
   "id": "0ac54bc3",
   "metadata": {},
   "outputs": [
    {
     "data": {
      "image/png": "[encoded data removed]",
      "text/plain": [
       "<Figure size 1200x600 with 1 Axes>"
      ]
     },
     "metadata": {},
     "output_type": "display_data"
    }
   ],
   "source": [
    "# Параметры распределения\n",
    "N = 1080\n",
    "k_values = np.arange(50, 150)\n",
    "\n",
    "# Расчет вероятностей\n",
    "probs = binom.pmf(k_values, N, p)\n",
    "\n",
    "# Построение графика\n",
    "plt.figure(figsize=(12, 6))\n",
    "plt.bar(k_values, probs, alpha=0.7, label=f'Binom(N={N}, p=0.1)')\n",
    "plt.axvline(100, color='red', linestyle='--', label='Цель: 100 продлений')\n",
    "plt.xlabel('Число продлений (k)')\n",
    "plt.ylabel('Вероятность P(k)')\n",
    "plt.title('Распределение числа продлений подписки')\n",
    "plt.legend()\n",
    "plt.grid(alpha=0.2)\n",
    "plt.show()"
   ]
  },
  {
   "cell_type": "markdown",
   "id": "884ff3a2",
   "metadata": {},
   "source": [
    "Вероятность получить < 100 продлений (левее красной линии) ≈ 5%.\n",
    "Пик распределения около k = N*p = 108."
   ]
  },
  {
   "cell_type": "code",
   "execution_count": 52,
   "id": "816efaaf",
   "metadata": {
    "scrolled": true
   },
   "outputs": [
    {
     "name": "stdout",
     "output_type": "stream",
     "text": [
      "P(k < 100) = 0.0507\n"
     ]
    }
   ],
   "source": [
    "N = 1160\n",
    "p = 0.1\n",
    "k = 99\n",
    "\n",
    "prob = binom.cdf(k, N, p)\n",
    "print(f\"P(k < 100) = {prob:.4f}\")"
   ]
  },
  {
   "cell_type": "markdown",
   "id": "b64d598b",
   "metadata": {},
   "source": [
    "Проверка точности\n",
    "Для N = 1160:\n",
    "P(k < 100) ≈ 0.0507 (> 0.05) — не подходит.\n",
    "Для N = 1170:\n",
    "P(k < 100) ≈ 0.0416 — удовлетворяет условию."
   ]
  },
  {
   "cell_type": "markdown",
   "id": "23bf74d7",
   "metadata": {},
   "source": [
    "Итоговый ответ:\n",
    "Чтобы вероятность не выполнить план (получить < 100 продлений) была не более 5%, необходимо разослать минимум 1170 промокодов."
   ]
  },
  {
   "cell_type": "markdown",
   "id": "f6c0c940",
   "metadata": {},
   "source": [
    "##### Отдел маркетинга рассылает клиентам push-уведомления в мобильном приложении. Клиенты могут открыть его или не открывать. Известно, что уведомления открывают около 40 % получивших клиентов. Отдел планирует разослать 1 млн уведомлений. С помощью аппроксимации постройте примерный график распределения и оцените вероятность того, что уведомление откроют не более 399,5 тыс. пользователей."
   ]
  },
  {
   "cell_type": "markdown",
   "id": "7c9a26b9",
   "metadata": {},
   "source": [
    "Подсказка: Эта ситуация тоже описывается биномиальным распределением. Но считать каждое отдельное значение достаточно долго. Вы можете воспользоваться нормальной аппроксимацией биномиального распределения и cdf() для быстрой оценки."
   ]
  },
  {
   "cell_type": "markdown",
   "id": "7422ea98",
   "metadata": {},
   "source": [
    "Условия задачи:\n",
    "Вероятность открытия уведомления (p) = 40% = 0.4\n",
    "Количество уведомлений (n) = 1,000,000\n",
    "Нужно найти P(X ≤ 399,500)\n",
    "\n",
    "Решение:\n",
    "Параметры биномиального распределения:\n",
    "Среднее = n * p = 1,000,000 * 0.4 = 400,000\n",
    "Дисперсия = n * p * (1-p) = 1,000,000 * 0.4 * 0.6 = 240,000\n",
    "Стандартное отклонение = √240,000 ≈ 489.9\n",
    "\n",
    "Нормальная аппроксимация:\n",
    "При больших n биномиальное распределение можно аппроксимировать нормальным:\n",
    "X ~ N(среднее=400,000, дисперсия=240,000)\n",
    "\n",
    "Поправка на непрерывность:\n",
    "Для перехода от дискретного к непрерывному распределению добавим 0.5:\n",
    "P(X <= 399,500) ≈ P(X <= 399,500.5)\n",
    "\n",
    "Расчет Z-статистики:\n",
    "Z = (399,500.5 - 400,000) / 489.9 ≈ -1.02\n",
    "\n",
    "Использование CDF:\n",
    "P(X ≤ 399,500) ≈ Φ(-1.02)"
   ]
  },
  {
   "cell_type": "code",
   "execution_count": 53,
   "id": "12c427b5",
   "metadata": {
    "scrolled": true
   },
   "outputs": [
    {
     "name": "stdout",
     "output_type": "stream",
     "text": [
      "Вероятность P(X ≤ 399,500) = 0.1540 или 15.40%\n"
     ]
    },
    {
     "data": {
      "image/png": "[encoded data removed]",
      "text/plain": [
       "<Figure size 1200x600 with 1 Axes>"
      ]
     },
     "metadata": {},
     "output_type": "display_data"
    }
   ],
   "source": [
    "# Параметры\n",
    "n = 1_000_000\n",
    "p = 0.4\n",
    "mu = n * p\n",
    "sigma = np.sqrt(n * p * (1 - p))\n",
    "\n",
    "# Расчет вероятности\n",
    "x = 399_500\n",
    "prob = norm.cdf(x + 0.5, loc=mu, scale=sigma)  # Поправка на непрерывность\n",
    "\n",
    "print(f\"Вероятность P(X ≤ 399,500) = {prob:.4f} или {prob*100:.2f}%\")\n",
    "\n",
    "# Визуализация\n",
    "plt.figure(figsize=(12,6))\n",
    "x_values = np.linspace(mu - 4*sigma, mu + 4*sigma, 1000)\n",
    "y_values = norm.pdf(x_values, loc=mu, scale=sigma)\n",
    "plt.plot(x_values, y_values, 'b-', label=f'N(μ={mu:.0f}, σ²={sigma**2:.0f})')\n",
    "\n",
    "# Закрашиваем область\n",
    "mask = x_values <= 399_500.5\n",
    "plt.fill_between(x_values[mask], y_values[mask], color='red', alpha=0.3, \n",
    "                 label=f'P(X ≤ 399,500) = {prob:.4f}')\n",
    "\n",
    "plt.axvline(mu, color='green', linestyle='--', label='Среднее (400,000)')\n",
    "plt.title('Нормальная аппроксимация распределения открытий уведомлений')\n",
    "plt.xlabel('Количество открытий')\n",
    "plt.ylabel('Плотность вероятности')\n",
    "plt.legend()\n",
    "plt.grid(True, alpha=0.3)\n",
    "plt.show()"
   ]
  },
  {
   "cell_type": "markdown",
   "id": "09b6edd8",
   "metadata": {},
   "source": [
    "Результат:\n",
    "Вероятность того, что уведомление откроют не более 399,5 тыс. пользователей, составляет примерно 15.39%.\n",
    "\n",
    "Интерпретация графика:\n",
    "Синяя кривая - нормальное распределение со средним = 400,000 и дисперсией ≈ 489.9\n",
    "Красная область - искомая вероятность (левее 399,500.5).\n",
    "Зеленая линия - среднее значение (400,000 открытий).\n",
    "\n",
    "Почему нормальная аппроксимация уместна?\n",
    "Большой объем выборки (n=1,000,000).\n",
    "Условие np(1-p) > 10 выполняется.\n",
    "Распределение практически симметрично при p=0.4."
   ]
  },
  {
   "cell_type": "markdown",
   "id": "f7023838",
   "metadata": {},
   "source": [
    "#### Основные результаты и выводы"
   ]
  },
  {
   "cell_type": "markdown",
   "id": "e05391a8",
   "metadata": {},
   "source": [
    "**Анализ пользователей**\n",
    "Основная аудитория сервиса — молодые люди в возрасте 22–28 лет (средний возраст 24.9 года).\n",
    "Географически пользователи равномерно рассредоточены по городам.\n",
    "Соотношение пользователей с подпиской ultra и без нее примерно одинаковое.\n",
    "\n",
    "**Поведение пользователей**\n",
    "Среднее расстояние поездки — 3133 м, что близко к оптимальному значению 3130 м (с точки зрения износа самокатов).\n",
    "Средняя продолжительность поездки — 17.8 мин, при этом Ultra-пользователи тратят больше времени (различие статистически значимо).\n",
    "Наблюдается вторичный пик коротких поездок (500–1500 м), что говорит о возможности введения спецтарифа для таких маршрутов.\n",
    "\n",
    "**Финансовая эффективность**\n",
    "Ultra-подписка приносит больше выручки, чем бесплатная версия (подтверждено статистически).\n",
    "\n",
    "**Проверка гипотез**\n",
    "Гипотеза 1: Пользователи Ultra тратят больше времени на поездки (подтверждено, p-value ≈ 0).\n",
    "Гипотеза 2: Среднее расстояние поездок Ultra не превышает 3130 м (подтверждено, p-value = 0.9195).\n",
    "Гипотеза 3: Выручка от Ultra-пользователей выше (подтверждено, p-value ≈ 0).\n",
    "\n",
    "**Маркетинговые расчеты**\n",
    "Для акции с бесплатным месяцем подписки и целевым показателем 100 продлений необходимо разослать 1170 промокодов (вероятность успеха 95%).\n",
    "При рассылке 1 млн push-уведомлений (вероятность открытия 40%) вероятность, что их откроют <=399.5 тыс. пользователей, составляет 15.4%.\n",
    "\n",
    "**Рекомендации для бизнеса**\n",
    "Увеличение конверсии в платную подписку\n",
    "Внедрить пробные периоды Ultra с последующим автоматическим продлением (на основе данных, 10% пользователей продлевают подписку после бесплатного месяца).\n",
    "Сегментировать аудиторию и предлагать персонализированные условия (скидки для активных пользователей).\n",
    "Оптимизация тарифов: Ввести специальный тариф для коротких поездок (500–1500 м), так как наблюдается устойчивый спрос."
   ]
  }
 ],
 "metadata": {
  "ExecuteTimeLog": [
   {
    "duration": 46,
    "start_time": "2025-04-14T13:54:14.952Z"
   },
   {
    "duration": 403,
    "start_time": "2025-04-14T13:54:24.001Z"
   },
   {
    "duration": 32,
    "start_time": "2025-04-14T13:54:26.032Z"
   },
   {
    "duration": 17,
    "start_time": "2025-04-14T13:54:36.705Z"
   },
   {
    "duration": 69,
    "start_time": "2025-04-14T13:57:16.774Z"
   },
   {
    "duration": 12,
    "start_time": "2025-04-14T13:57:26.926Z"
   },
   {
    "duration": 7,
    "start_time": "2025-04-14T13:57:32.630Z"
   },
   {
    "duration": 11,
    "start_time": "2025-04-14T14:00:47.516Z"
   },
   {
    "duration": 11,
    "start_time": "2025-04-14T14:01:01.419Z"
   },
   {
    "duration": 8,
    "start_time": "2025-04-14T14:01:07.299Z"
   },
   {
    "duration": 13,
    "start_time": "2025-04-14T14:01:44.251Z"
   },
   {
    "duration": 11,
    "start_time": "2025-04-14T14:01:59.627Z"
   },
   {
    "duration": 10,
    "start_time": "2025-04-14T14:02:04.699Z"
   },
   {
    "duration": 33,
    "start_time": "2025-04-14T14:07:01.559Z"
   },
   {
    "duration": 7,
    "start_time": "2025-04-14T14:07:17.430Z"
   },
   {
    "duration": 10,
    "start_time": "2025-04-14T14:07:25.302Z"
   },
   {
    "duration": 8,
    "start_time": "2025-04-14T14:07:36.433Z"
   },
   {
    "duration": 11,
    "start_time": "2025-04-14T14:07:58.494Z"
   },
   {
    "duration": 5,
    "start_time": "2025-04-14T14:09:55.811Z"
   },
   {
    "duration": 10,
    "start_time": "2025-04-14T14:10:01.059Z"
   },
   {
    "duration": 9,
    "start_time": "2025-04-14T14:10:08.876Z"
   },
   {
    "duration": 9,
    "start_time": "2025-04-14T14:15:49.951Z"
   },
   {
    "duration": 8,
    "start_time": "2025-04-14T14:16:09.911Z"
   },
   {
    "duration": 7,
    "start_time": "2025-04-14T14:16:20.102Z"
   },
   {
    "duration": 6,
    "start_time": "2025-04-14T14:17:06.486Z"
   },
   {
    "duration": 9,
    "start_time": "2025-04-14T14:17:35.038Z"
   },
   {
    "duration": 5,
    "start_time": "2025-04-14T14:17:45.582Z"
   },
   {
    "duration": 7,
    "start_time": "2025-04-14T14:19:31.057Z"
   },
   {
    "duration": 6,
    "start_time": "2025-04-14T14:19:34.644Z"
   },
   {
    "duration": 8,
    "start_time": "2025-04-14T14:19:39.979Z"
   },
   {
    "duration": 6,
    "start_time": "2025-04-14T14:20:01.611Z"
   },
   {
    "duration": 8,
    "start_time": "2025-04-14T14:20:05.372Z"
   },
   {
    "duration": 6,
    "start_time": "2025-04-14T14:20:08.251Z"
   },
   {
    "duration": 6,
    "start_time": "2025-04-14T14:20:53.187Z"
   },
   {
    "duration": 13,
    "start_time": "2025-04-14T14:21:34.139Z"
   },
   {
    "duration": 6,
    "start_time": "2025-04-14T14:25:32.480Z"
   },
   {
    "duration": 6,
    "start_time": "2025-04-14T14:25:40.911Z"
   },
   {
    "duration": 15,
    "start_time": "2025-04-14T14:26:36.238Z"
   },
   {
    "duration": 16,
    "start_time": "2025-04-14T14:27:09.454Z"
   },
   {
    "duration": 8,
    "start_time": "2025-04-14T14:27:18.886Z"
   },
   {
    "duration": 2,
    "start_time": "2025-04-14T14:28:21.540Z"
   },
   {
    "duration": 1026,
    "start_time": "2025-04-14T14:34:11.815Z"
   },
   {
    "duration": 5,
    "start_time": "2025-04-14T14:34:29.735Z"
   },
   {
    "duration": 5,
    "start_time": "2025-04-14T14:34:59.703Z"
   },
   {
    "duration": 87,
    "start_time": "2025-04-14T14:35:06.423Z"
   },
   {
    "duration": 4,
    "start_time": "2025-04-14T14:35:10.607Z"
   },
   {
    "duration": 5,
    "start_time": "2025-04-14T14:35:24.207Z"
   },
   {
    "duration": 7,
    "start_time": "2025-04-14T14:35:39.926Z"
   },
   {
    "duration": 8,
    "start_time": "2025-04-14T14:35:49.158Z"
   },
   {
    "duration": 8,
    "start_time": "2025-04-14T14:35:54.486Z"
   },
   {
    "duration": 4,
    "start_time": "2025-04-14T14:36:01.278Z"
   },
   {
    "duration": 8,
    "start_time": "2025-04-14T14:36:13.998Z"
   },
   {
    "duration": 10,
    "start_time": "2025-04-14T14:51:47.120Z"
   },
   {
    "duration": 689,
    "start_time": "2025-04-14T14:52:47.575Z"
   },
   {
    "duration": 379,
    "start_time": "2025-04-14T14:53:47.960Z"
   },
   {
    "duration": 7,
    "start_time": "2025-04-14T15:02:42.258Z"
   },
   {
    "duration": 243,
    "start_time": "2025-04-14T15:03:11.662Z"
   },
   {
    "duration": 8,
    "start_time": "2025-04-14T15:06:14.275Z"
   },
   {
    "duration": 495,
    "start_time": "2025-04-14T15:10:16.808Z"
   },
   {
    "duration": 156,
    "start_time": "2025-04-14T15:10:28.136Z"
   },
   {
    "duration": 114,
    "start_time": "2025-04-14T15:10:43.848Z"
   },
   {
    "duration": 2687,
    "start_time": "2025-04-14T15:11:10.736Z"
   },
   {
    "duration": 4,
    "start_time": "2025-04-14T15:15:01.580Z"
   },
   {
    "duration": 453,
    "start_time": "2025-04-14T15:15:10.253Z"
   },
   {
    "duration": 315,
    "start_time": "2025-04-14T15:16:04.947Z"
   },
   {
    "duration": 2778,
    "start_time": "2025-04-14T15:16:24.891Z"
   },
   {
    "duration": 390,
    "start_time": "2025-04-14T15:16:53.387Z"
   },
   {
    "duration": 355,
    "start_time": "2025-04-14T15:17:44.642Z"
   },
   {
    "duration": 161,
    "start_time": "2025-04-14T15:21:37.856Z"
   },
   {
    "duration": 3052,
    "start_time": "2025-04-14T15:21:57.270Z"
   },
   {
    "duration": 165,
    "start_time": "2025-04-14T15:22:27.957Z"
   },
   {
    "duration": 665,
    "start_time": "2025-04-14T15:28:08.241Z"
   },
   {
    "duration": 453,
    "start_time": "2025-04-14T15:28:21.369Z"
   },
   {
    "duration": 3034,
    "start_time": "2025-04-14T15:28:41.152Z"
   },
   {
    "duration": 19,
    "start_time": "2025-04-14T15:39:22.311Z"
   },
   {
    "duration": 689,
    "start_time": "2025-04-14T15:39:45.798Z"
   },
   {
    "duration": 17,
    "start_time": "2025-04-14T15:41:55.021Z"
   },
   {
    "duration": 690,
    "start_time": "2025-04-14T15:42:21.300Z"
   },
   {
    "duration": 15,
    "start_time": "2025-04-14T15:43:44.627Z"
   },
   {
    "duration": 3,
    "start_time": "2025-04-14T15:46:35.376Z"
   },
   {
    "duration": 18,
    "start_time": "2025-04-14T15:46:43.656Z"
   },
   {
    "duration": 23,
    "start_time": "2025-04-14T15:47:15.039Z"
   },
   {
    "duration": 706,
    "start_time": "2025-04-14T15:48:37.559Z"
   },
   {
    "duration": 19,
    "start_time": "2025-04-14T16:04:52.641Z"
   },
   {
    "duration": 90,
    "start_time": "2025-04-14T16:07:02.760Z"
   },
   {
    "duration": 129,
    "start_time": "2025-04-14T16:07:22.800Z"
   },
   {
    "duration": 86,
    "start_time": "2025-04-14T16:07:42.648Z"
   },
   {
    "duration": 12,
    "start_time": "2025-04-14T16:08:11.799Z"
   },
   {
    "duration": 96,
    "start_time": "2025-04-14T16:08:43.542Z"
   },
   {
    "duration": 2,
    "start_time": "2025-04-14T16:10:07.084Z"
   },
   {
    "duration": 100,
    "start_time": "2025-04-14T16:10:16.716Z"
   },
   {
    "duration": 12,
    "start_time": "2025-04-14T16:10:20.381Z"
   },
   {
    "duration": 89,
    "start_time": "2025-04-14T16:10:41.948Z"
   },
   {
    "duration": 16,
    "start_time": "2025-04-14T16:11:52.707Z"
   },
   {
    "duration": 16,
    "start_time": "2025-04-14T16:12:01.859Z"
   },
   {
    "duration": 11,
    "start_time": "2025-04-14T16:13:20.850Z"
   },
   {
    "duration": 19,
    "start_time": "2025-04-14T16:13:36.658Z"
   },
   {
    "duration": 18,
    "start_time": "2025-04-14T16:13:39.642Z"
   },
   {
    "duration": 18,
    "start_time": "2025-04-14T16:13:55.282Z"
   },
   {
    "duration": 18,
    "start_time": "2025-04-14T16:14:23.857Z"
   },
   {
    "duration": 17,
    "start_time": "2025-04-14T16:14:31.192Z"
   },
   {
    "duration": 17,
    "start_time": "2025-04-14T16:14:37.816Z"
   },
   {
    "duration": 93,
    "start_time": "2025-04-14T16:14:49.745Z"
   },
   {
    "duration": 17,
    "start_time": "2025-04-14T16:17:09.247Z"
   },
   {
    "duration": 16,
    "start_time": "2025-04-14T16:17:32.560Z"
   },
   {
    "duration": 17,
    "start_time": "2025-04-14T16:17:57.758Z"
   },
   {
    "duration": 3,
    "start_time": "2025-04-14T16:19:13.844Z"
   },
   {
    "duration": 2,
    "start_time": "2025-04-14T16:19:17.484Z"
   },
   {
    "duration": 11,
    "start_time": "2025-04-14T16:19:45.364Z"
   },
   {
    "duration": 378,
    "start_time": "2025-04-14T16:20:27.508Z"
   },
   {
    "duration": 511,
    "start_time": "2025-04-14T16:20:52.356Z"
   },
   {
    "duration": 571,
    "start_time": "2025-04-14T16:21:01.325Z"
   },
   {
    "duration": 12,
    "start_time": "2025-04-14T16:22:23.595Z"
   },
   {
    "duration": 511,
    "start_time": "2025-04-14T16:28:24.861Z"
   },
   {
    "duration": 622,
    "start_time": "2025-04-14T16:28:57.869Z"
   },
   {
    "duration": 579,
    "start_time": "2025-04-14T16:29:13.621Z"
   },
   {
    "duration": 7,
    "start_time": "2025-04-14T16:33:32.585Z"
   },
   {
    "duration": 7,
    "start_time": "2025-04-14T16:34:07.512Z"
   },
   {
    "duration": 22,
    "start_time": "2025-04-14T17:07:38.522Z"
   },
   {
    "duration": 15,
    "start_time": "2025-04-14T17:08:32.778Z"
   },
   {
    "duration": 13,
    "start_time": "2025-04-14T17:08:46.338Z"
   },
   {
    "duration": 3,
    "start_time": "2025-04-14T17:09:07.601Z"
   },
   {
    "duration": 15,
    "start_time": "2025-04-14T17:09:14.202Z"
   },
   {
    "duration": 111,
    "start_time": "2025-04-14T17:09:43.913Z"
   },
   {
    "duration": 123,
    "start_time": "2025-04-14T17:10:30.760Z"
   },
   {
    "duration": 124,
    "start_time": "2025-04-14T17:11:20.304Z"
   },
   {
    "duration": 455,
    "start_time": "2025-04-14T17:12:16.383Z"
   },
   {
    "duration": 3,
    "start_time": "2025-04-14T17:13:09.005Z"
   },
   {
    "duration": 514,
    "start_time": "2025-04-14T17:13:15.366Z"
   },
   {
    "duration": 557,
    "start_time": "2025-04-14T17:14:14.421Z"
   },
   {
    "duration": 471,
    "start_time": "2025-04-14T17:14:20.005Z"
   },
   {
    "duration": 532,
    "start_time": "2025-04-14T17:14:55.941Z"
   },
   {
    "duration": 35,
    "start_time": "2025-04-14T17:27:15.370Z"
   },
   {
    "duration": 37,
    "start_time": "2025-04-14T17:27:21.298Z"
   },
   {
    "duration": 11,
    "start_time": "2025-04-14T17:27:55.385Z"
   },
   {
    "duration": 14,
    "start_time": "2025-04-14T17:28:19.000Z"
   },
   {
    "duration": 22,
    "start_time": "2025-04-14T17:32:05.478Z"
   },
   {
    "duration": 22,
    "start_time": "2025-04-14T17:32:30.839Z"
   },
   {
    "duration": 29,
    "start_time": "2025-04-14T17:32:53.332Z"
   },
   {
    "duration": 30,
    "start_time": "2025-04-14T17:33:24.484Z"
   },
   {
    "duration": 25,
    "start_time": "2025-04-14T17:33:35.340Z"
   },
   {
    "duration": 14,
    "start_time": "2025-04-14T17:40:43.621Z"
   },
   {
    "duration": 7,
    "start_time": "2025-04-14T17:41:02.062Z"
   },
   {
    "duration": 8,
    "start_time": "2025-04-14T17:41:25.309Z"
   },
   {
    "duration": 531,
    "start_time": "2025-04-14T17:43:44.235Z"
   },
   {
    "duration": 512,
    "start_time": "2025-04-14T17:43:52.476Z"
   },
   {
    "duration": 668,
    "start_time": "2025-04-14T17:44:30.515Z"
   },
   {
    "duration": 506,
    "start_time": "2025-04-14T17:45:10.587Z"
   },
   {
    "duration": 645,
    "start_time": "2025-04-14T17:45:30.106Z"
   },
   {
    "duration": 34,
    "start_time": "2025-04-14T18:07:02.959Z"
   },
   {
    "duration": 89,
    "start_time": "2025-04-14T18:07:16.735Z"
   },
   {
    "duration": 5325,
    "start_time": "2025-04-14T18:08:21.854Z"
   },
   {
    "duration": 31,
    "start_time": "2025-04-14T18:10:46.660Z"
   },
   {
    "duration": 5438,
    "start_time": "2025-04-14T18:10:49.341Z"
   },
   {
    "duration": 5585,
    "start_time": "2025-04-14T18:11:18.012Z"
   },
   {
    "duration": 5524,
    "start_time": "2025-04-14T18:12:23.139Z"
   },
   {
    "duration": 5285,
    "start_time": "2025-04-14T18:15:16.425Z"
   },
   {
    "duration": 7,
    "start_time": "2025-04-14T18:19:03.140Z"
   },
   {
    "duration": 47,
    "start_time": "2025-04-15T12:07:56.747Z"
   },
   {
    "duration": 1372,
    "start_time": "2025-04-15T12:08:20.093Z"
   },
   {
    "duration": 80,
    "start_time": "2025-04-15T12:08:21.467Z"
   },
   {
    "duration": 11,
    "start_time": "2025-04-15T12:08:21.550Z"
   },
   {
    "duration": 31,
    "start_time": "2025-04-15T12:08:21.562Z"
   },
   {
    "duration": 24,
    "start_time": "2025-04-15T12:08:21.595Z"
   },
   {
    "duration": 32,
    "start_time": "2025-04-15T12:08:21.620Z"
   },
   {
    "duration": 6,
    "start_time": "2025-04-15T12:08:21.654Z"
   },
   {
    "duration": 14,
    "start_time": "2025-04-15T12:08:21.661Z"
   },
   {
    "duration": 10,
    "start_time": "2025-04-15T12:08:21.677Z"
   },
   {
    "duration": 10,
    "start_time": "2025-04-15T12:08:21.689Z"
   },
   {
    "duration": 66,
    "start_time": "2025-04-15T12:08:21.700Z"
   },
   {
    "duration": 10,
    "start_time": "2025-04-15T12:08:21.767Z"
   },
   {
    "duration": 7,
    "start_time": "2025-04-15T12:08:21.778Z"
   },
   {
    "duration": 5,
    "start_time": "2025-04-15T12:08:21.787Z"
   },
   {
    "duration": 4,
    "start_time": "2025-04-15T12:08:21.794Z"
   },
   {
    "duration": 5,
    "start_time": "2025-04-15T12:08:21.800Z"
   },
   {
    "duration": 4,
    "start_time": "2025-04-15T12:08:21.806Z"
   },
   {
    "duration": 6,
    "start_time": "2025-04-15T12:08:21.812Z"
   },
   {
    "duration": 28,
    "start_time": "2025-04-15T12:08:21.819Z"
   },
   {
    "duration": 5,
    "start_time": "2025-04-15T12:08:21.849Z"
   },
   {
    "duration": 12,
    "start_time": "2025-04-15T12:08:21.855Z"
   },
   {
    "duration": 381,
    "start_time": "2025-04-15T12:08:21.869Z"
   },
   {
    "duration": 8,
    "start_time": "2025-04-15T12:08:22.251Z"
   },
   {
    "duration": 239,
    "start_time": "2025-04-15T12:08:22.260Z"
   },
   {
    "duration": 8,
    "start_time": "2025-04-15T12:08:22.500Z"
   },
   {
    "duration": 561,
    "start_time": "2025-04-15T12:08:22.509Z"
   },
   {
    "duration": 17,
    "start_time": "2025-04-15T12:08:23.072Z"
   },
   {
    "duration": 17,
    "start_time": "2025-04-15T12:08:23.090Z"
   },
   {
    "duration": 3,
    "start_time": "2025-04-15T12:08:23.108Z"
   },
   {
    "duration": 570,
    "start_time": "2025-04-15T12:08:23.112Z"
   },
   {
    "duration": 14,
    "start_time": "2025-04-15T12:08:23.684Z"
   },
   {
    "duration": 591,
    "start_time": "2025-04-15T12:08:23.699Z"
   },
   {
    "duration": 25,
    "start_time": "2025-04-15T12:08:24.292Z"
   },
   {
    "duration": 29,
    "start_time": "2025-04-15T12:08:24.318Z"
   },
   {
    "duration": 575,
    "start_time": "2025-04-15T12:08:24.349Z"
   },
   {
    "duration": 668,
    "start_time": "2025-04-15T12:08:24.926Z"
   },
   {
    "duration": 411,
    "start_time": "2025-04-15T12:08:25.596Z"
   },
   {
    "duration": 46,
    "start_time": "2025-04-15T12:08:26.008Z"
   },
   {
    "duration": 5768,
    "start_time": "2025-04-15T12:08:26.056Z"
   },
   {
    "duration": 21,
    "start_time": "2025-04-15T12:08:31.826Z"
   },
   {
    "duration": 147,
    "start_time": "2025-04-15T12:11:15.985Z"
   },
   {
    "duration": 22,
    "start_time": "2025-04-15T12:12:00.953Z"
   },
   {
    "duration": 345,
    "start_time": "2025-04-15T12:15:38.357Z"
   },
   {
    "duration": 1244,
    "start_time": "2025-04-15T12:27:37.228Z"
   },
   {
    "duration": 111,
    "start_time": "2025-04-15T12:28:48.995Z"
   },
   {
    "duration": 13,
    "start_time": "2025-04-15T12:29:13.448Z"
   },
   {
    "duration": 9,
    "start_time": "2025-04-15T12:29:26.339Z"
   },
   {
    "duration": 5,
    "start_time": "2025-04-15T12:29:41.418Z"
   },
   {
    "duration": 5,
    "start_time": "2025-04-15T12:36:08.965Z"
   },
   {
    "duration": 7,
    "start_time": "2025-04-15T13:42:15.077Z"
   },
   {
    "duration": 12,
    "start_time": "2025-04-15T13:43:00.382Z"
   },
   {
    "duration": 617,
    "start_time": "2025-04-15T13:44:01.020Z"
   },
   {
    "duration": 6,
    "start_time": "2025-04-15T13:44:34.597Z"
   },
   {
    "duration": 6,
    "start_time": "2025-04-15T13:44:59.043Z"
   },
   {
    "duration": 638,
    "start_time": "2025-04-15T14:08:55.407Z"
   },
   {
    "duration": 715,
    "start_time": "2025-04-15T14:10:15.958Z"
   },
   {
    "duration": 13,
    "start_time": "2025-04-15T14:10:45.669Z"
   },
   {
    "duration": 6,
    "start_time": "2025-04-15T14:12:52.732Z"
   },
   {
    "duration": 6,
    "start_time": "2025-04-15T14:13:05.363Z"
   },
   {
    "duration": 5,
    "start_time": "2025-04-15T14:13:14.860Z"
   },
   {
    "duration": 7,
    "start_time": "2025-04-15T14:13:22.555Z"
   },
   {
    "duration": 3,
    "start_time": "2025-04-15T14:33:09.228Z"
   },
   {
    "duration": 546,
    "start_time": "2025-04-15T14:33:18.996Z"
   },
   {
    "duration": 632,
    "start_time": "2025-04-15T14:34:08.284Z"
   },
   {
    "duration": 539,
    "start_time": "2025-04-15T14:34:18.756Z"
   },
   {
    "duration": 548,
    "start_time": "2025-04-15T14:34:28.044Z"
   },
   {
    "duration": 527,
    "start_time": "2025-04-15T14:34:36.299Z"
   },
   {
    "duration": 671,
    "start_time": "2025-04-15T14:35:31.219Z"
   },
   {
    "duration": 669,
    "start_time": "2025-04-15T14:36:04.659Z"
   },
   {
    "duration": 8,
    "start_time": "2025-04-15T14:42:27.134Z"
   },
   {
    "duration": 5,
    "start_time": "2025-04-15T14:43:52.244Z"
   },
   {
    "duration": 6,
    "start_time": "2025-04-15T14:44:06.395Z"
   },
   {
    "duration": 6,
    "start_time": "2025-04-15T14:44:55.867Z"
   },
   {
    "duration": 6,
    "start_time": "2025-04-15T14:45:07.131Z"
   },
   {
    "duration": 3,
    "start_time": "2025-04-15T16:29:53.386Z"
   },
   {
    "duration": 9,
    "start_time": "2025-04-15T16:30:04.058Z"
   },
   {
    "duration": 422,
    "start_time": "2025-04-15T16:31:29.446Z"
   },
   {
    "duration": 5,
    "start_time": "2025-04-15T16:39:34.507Z"
   },
   {
    "duration": 4,
    "start_time": "2025-04-15T16:39:41.098Z"
   },
   {
    "duration": 3,
    "start_time": "2025-04-15T17:34:52.664Z"
   },
   {
    "duration": 323,
    "start_time": "2025-04-15T17:35:01.072Z"
   },
   {
    "duration": 1219,
    "start_time": "2025-04-15T18:05:25.325Z"
   },
   {
    "duration": 71,
    "start_time": "2025-04-15T18:05:26.547Z"
   },
   {
    "duration": 18,
    "start_time": "2025-04-15T18:05:26.620Z"
   },
   {
    "duration": 15,
    "start_time": "2025-04-15T18:05:26.641Z"
   },
   {
    "duration": 12,
    "start_time": "2025-04-15T18:05:26.658Z"
   },
   {
    "duration": 16,
    "start_time": "2025-04-15T18:05:26.672Z"
   },
   {
    "duration": 8,
    "start_time": "2025-04-15T18:05:26.690Z"
   },
   {
    "duration": 43,
    "start_time": "2025-04-15T18:05:26.704Z"
   },
   {
    "duration": 9,
    "start_time": "2025-04-15T18:05:26.749Z"
   },
   {
    "duration": 17,
    "start_time": "2025-04-15T18:05:26.761Z"
   },
   {
    "duration": 5,
    "start_time": "2025-04-15T18:05:26.779Z"
   },
   {
    "duration": 11,
    "start_time": "2025-04-15T18:05:26.785Z"
   },
   {
    "duration": 7,
    "start_time": "2025-04-15T18:05:26.798Z"
   },
   {
    "duration": 8,
    "start_time": "2025-04-15T18:05:26.836Z"
   },
   {
    "duration": 76,
    "start_time": "2025-04-15T18:05:26.846Z"
   },
   {
    "duration": 7,
    "start_time": "2025-04-15T18:05:26.924Z"
   },
   {
    "duration": 6,
    "start_time": "2025-04-15T18:05:26.933Z"
   },
   {
    "duration": 6,
    "start_time": "2025-04-15T18:05:26.940Z"
   },
   {
    "duration": 11,
    "start_time": "2025-04-15T18:05:26.948Z"
   },
   {
    "duration": 5,
    "start_time": "2025-04-15T18:05:26.961Z"
   },
   {
    "duration": 11,
    "start_time": "2025-04-15T18:05:26.967Z"
   },
   {
    "duration": 336,
    "start_time": "2025-04-15T18:05:26.980Z"
   },
   {
    "duration": 18,
    "start_time": "2025-04-15T18:05:27.318Z"
   },
   {
    "duration": 236,
    "start_time": "2025-04-15T18:05:27.339Z"
   },
   {
    "duration": 10,
    "start_time": "2025-04-15T18:05:27.577Z"
   },
   {
    "duration": 489,
    "start_time": "2025-04-15T18:05:27.588Z"
   },
   {
    "duration": 17,
    "start_time": "2025-04-15T18:05:28.079Z"
   },
   {
    "duration": 41,
    "start_time": "2025-04-15T18:05:28.101Z"
   },
   {
    "duration": 14,
    "start_time": "2025-04-15T18:05:28.143Z"
   },
   {
    "duration": 536,
    "start_time": "2025-04-15T18:05:28.159Z"
   },
   {
    "duration": 15,
    "start_time": "2025-04-15T18:05:28.697Z"
   },
   {
    "duration": 670,
    "start_time": "2025-04-15T18:05:28.714Z"
   },
   {
    "duration": 50,
    "start_time": "2025-04-15T18:05:29.386Z"
   },
   {
    "duration": 17,
    "start_time": "2025-04-15T18:05:29.439Z"
   },
   {
    "duration": 762,
    "start_time": "2025-04-15T18:05:29.458Z"
   },
   {
    "duration": 658,
    "start_time": "2025-04-15T18:05:30.221Z"
   },
   {
    "duration": 412,
    "start_time": "2025-04-15T18:05:30.881Z"
   },
   {
    "duration": 50,
    "start_time": "2025-04-15T18:05:31.296Z"
   },
   {
    "duration": 5540,
    "start_time": "2025-04-15T18:05:31.347Z"
   },
   {
    "duration": 13,
    "start_time": "2025-04-15T18:05:36.889Z"
   },
   {
    "duration": 20,
    "start_time": "2025-04-15T18:05:36.904Z"
   },
   {
    "duration": 7,
    "start_time": "2025-04-15T18:05:36.936Z"
   },
   {
    "duration": 23,
    "start_time": "2025-04-15T18:05:36.945Z"
   },
   {
    "duration": 653,
    "start_time": "2025-04-15T18:05:36.970Z"
   },
   {
    "duration": 97,
    "start_time": "2025-04-15T18:05:37.625Z"
   },
   {
    "duration": 0,
    "start_time": "2025-04-15T18:05:37.724Z"
   },
   {
    "duration": 0,
    "start_time": "2025-04-15T18:05:37.735Z"
   },
   {
    "duration": 0,
    "start_time": "2025-04-15T18:05:37.736Z"
   },
   {
    "duration": 0,
    "start_time": "2025-04-15T18:05:37.738Z"
   },
   {
    "duration": 0,
    "start_time": "2025-04-15T18:05:37.739Z"
   },
   {
    "duration": 0,
    "start_time": "2025-04-15T18:05:37.740Z"
   },
   {
    "duration": 21,
    "start_time": "2025-04-15T18:15:27.844Z"
   },
   {
    "duration": 4,
    "start_time": "2025-04-15T18:17:11.497Z"
   },
   {
    "duration": 5,
    "start_time": "2025-04-15T18:17:27.617Z"
   },
   {
    "duration": 16,
    "start_time": "2025-04-15T18:17:35.497Z"
   },
   {
    "duration": 1145,
    "start_time": "2025-04-15T18:21:38.395Z"
   },
   {
    "duration": 69,
    "start_time": "2025-04-15T18:21:39.545Z"
   },
   {
    "duration": 11,
    "start_time": "2025-04-15T18:21:39.616Z"
   },
   {
    "duration": 21,
    "start_time": "2025-04-15T18:21:39.629Z"
   },
   {
    "duration": 10,
    "start_time": "2025-04-15T18:21:39.652Z"
   },
   {
    "duration": 20,
    "start_time": "2025-04-15T18:21:39.663Z"
   },
   {
    "duration": 6,
    "start_time": "2025-04-15T18:21:39.685Z"
   },
   {
    "duration": 9,
    "start_time": "2025-04-15T18:21:39.693Z"
   },
   {
    "duration": 7,
    "start_time": "2025-04-15T18:21:39.703Z"
   },
   {
    "duration": 15,
    "start_time": "2025-04-15T18:21:39.742Z"
   },
   {
    "duration": 6,
    "start_time": "2025-04-15T18:21:39.759Z"
   },
   {
    "duration": 22,
    "start_time": "2025-04-15T18:21:39.766Z"
   },
   {
    "duration": 5,
    "start_time": "2025-04-15T18:21:39.790Z"
   },
   {
    "duration": 5,
    "start_time": "2025-04-15T18:21:39.797Z"
   },
   {
    "duration": 5,
    "start_time": "2025-04-15T18:21:39.803Z"
   },
   {
    "duration": 25,
    "start_time": "2025-04-15T18:21:39.810Z"
   },
   {
    "duration": 6,
    "start_time": "2025-04-15T18:21:39.837Z"
   },
   {
    "duration": 12,
    "start_time": "2025-04-15T18:21:39.845Z"
   },
   {
    "duration": 10,
    "start_time": "2025-04-15T18:21:39.859Z"
   },
   {
    "duration": 4,
    "start_time": "2025-04-15T18:21:39.871Z"
   },
   {
    "duration": 15,
    "start_time": "2025-04-15T18:21:39.876Z"
   },
   {
    "duration": 337,
    "start_time": "2025-04-15T18:21:39.893Z"
   },
   {
    "duration": 16,
    "start_time": "2025-04-15T18:21:40.235Z"
   },
   {
    "duration": 223,
    "start_time": "2025-04-15T18:21:40.253Z"
   },
   {
    "duration": 8,
    "start_time": "2025-04-15T18:21:40.477Z"
   },
   {
    "duration": 570,
    "start_time": "2025-04-15T18:21:40.487Z"
   },
   {
    "duration": 17,
    "start_time": "2025-04-15T18:21:41.059Z"
   },
   {
    "duration": 19,
    "start_time": "2025-04-15T18:21:41.079Z"
   },
   {
    "duration": 3,
    "start_time": "2025-04-15T18:21:41.100Z"
   },
   {
    "duration": 652,
    "start_time": "2025-04-15T18:21:41.104Z"
   },
   {
    "duration": 21,
    "start_time": "2025-04-15T18:21:41.758Z"
   },
   {
    "duration": 596,
    "start_time": "2025-04-15T18:21:41.781Z"
   },
   {
    "duration": 26,
    "start_time": "2025-04-15T18:21:42.378Z"
   },
   {
    "duration": 12,
    "start_time": "2025-04-15T18:21:42.406Z"
   },
   {
    "duration": 622,
    "start_time": "2025-04-15T18:21:42.436Z"
   },
   {
    "duration": 649,
    "start_time": "2025-04-15T18:21:43.059Z"
   },
   {
    "duration": 443,
    "start_time": "2025-04-15T18:21:43.710Z"
   },
   {
    "duration": 46,
    "start_time": "2025-04-15T18:21:44.155Z"
   },
   {
    "duration": 5540,
    "start_time": "2025-04-15T18:21:44.203Z"
   },
   {
    "duration": 14,
    "start_time": "2025-04-15T18:21:49.746Z"
   },
   {
    "duration": 6,
    "start_time": "2025-04-15T18:21:49.762Z"
   },
   {
    "duration": 7,
    "start_time": "2025-04-15T18:21:49.770Z"
   },
   {
    "duration": 6,
    "start_time": "2025-04-15T18:21:49.779Z"
   },
   {
    "duration": 625,
    "start_time": "2025-04-15T18:21:49.786Z"
   },
   {
    "duration": 27,
    "start_time": "2025-04-15T18:21:50.413Z"
   },
   {
    "duration": 6,
    "start_time": "2025-04-15T18:21:50.442Z"
   },
   {
    "duration": 7,
    "start_time": "2025-04-15T18:21:50.451Z"
   },
   {
    "duration": 25,
    "start_time": "2025-04-15T18:21:50.459Z"
   },
   {
    "duration": 532,
    "start_time": "2025-04-15T18:21:50.486Z"
   },
   {
    "duration": 4,
    "start_time": "2025-04-15T18:21:51.020Z"
   },
   {
    "duration": 503,
    "start_time": "2025-04-15T18:21:51.025Z"
   },
   {
    "duration": 1369,
    "start_time": "2025-04-15T18:57:43.590Z"
   },
   {
    "duration": 62,
    "start_time": "2025-04-15T18:57:44.961Z"
   },
   {
    "duration": 14,
    "start_time": "2025-04-15T18:57:45.025Z"
   },
   {
    "duration": 21,
    "start_time": "2025-04-15T18:57:45.042Z"
   },
   {
    "duration": 46,
    "start_time": "2025-04-15T18:57:45.065Z"
   },
   {
    "duration": 28,
    "start_time": "2025-04-15T18:57:45.113Z"
   },
   {
    "duration": 16,
    "start_time": "2025-04-15T18:57:45.143Z"
   },
   {
    "duration": 22,
    "start_time": "2025-04-15T18:57:45.161Z"
   },
   {
    "duration": 20,
    "start_time": "2025-04-15T18:57:45.185Z"
   },
   {
    "duration": 22,
    "start_time": "2025-04-15T18:57:45.208Z"
   },
   {
    "duration": 9,
    "start_time": "2025-04-15T18:57:45.232Z"
   },
   {
    "duration": 29,
    "start_time": "2025-04-15T18:57:45.243Z"
   },
   {
    "duration": 43,
    "start_time": "2025-04-15T18:57:45.274Z"
   },
   {
    "duration": 16,
    "start_time": "2025-04-15T18:57:45.320Z"
   },
   {
    "duration": 10,
    "start_time": "2025-04-15T18:57:45.338Z"
   },
   {
    "duration": 25,
    "start_time": "2025-04-15T18:57:45.350Z"
   },
   {
    "duration": 8,
    "start_time": "2025-04-15T18:57:45.378Z"
   },
   {
    "duration": 14,
    "start_time": "2025-04-15T18:57:45.388Z"
   },
   {
    "duration": 13,
    "start_time": "2025-04-15T18:57:45.405Z"
   },
   {
    "duration": 16,
    "start_time": "2025-04-15T18:57:45.419Z"
   },
   {
    "duration": 42,
    "start_time": "2025-04-15T18:57:45.437Z"
   },
   {
    "duration": 388,
    "start_time": "2025-04-15T18:57:45.481Z"
   },
   {
    "duration": 10,
    "start_time": "2025-04-15T18:57:45.871Z"
   },
   {
    "duration": 335,
    "start_time": "2025-04-15T18:57:45.883Z"
   },
   {
    "duration": 9,
    "start_time": "2025-04-15T18:57:46.220Z"
   },
   {
    "duration": 610,
    "start_time": "2025-04-15T18:57:46.232Z"
   },
   {
    "duration": 29,
    "start_time": "2025-04-15T18:57:46.843Z"
   },
   {
    "duration": 24,
    "start_time": "2025-04-15T18:57:46.876Z"
   },
   {
    "duration": 3,
    "start_time": "2025-04-15T18:57:46.902Z"
   },
   {
    "duration": 698,
    "start_time": "2025-04-15T18:57:46.907Z"
   },
   {
    "duration": 20,
    "start_time": "2025-04-15T18:57:47.608Z"
   },
   {
    "duration": 611,
    "start_time": "2025-04-15T18:57:47.631Z"
   },
   {
    "duration": 42,
    "start_time": "2025-04-15T18:57:48.244Z"
   },
   {
    "duration": 15,
    "start_time": "2025-04-15T18:57:48.288Z"
   },
   {
    "duration": 761,
    "start_time": "2025-04-15T18:57:48.306Z"
   },
   {
    "duration": 805,
    "start_time": "2025-04-15T18:57:49.071Z"
   },
   {
    "duration": 486,
    "start_time": "2025-04-15T18:57:49.878Z"
   },
   {
    "duration": 46,
    "start_time": "2025-04-15T18:57:50.367Z"
   },
   {
    "duration": 5694,
    "start_time": "2025-04-15T18:57:50.415Z"
   },
   {
    "duration": 13,
    "start_time": "2025-04-15T18:57:56.111Z"
   },
   {
    "duration": 5,
    "start_time": "2025-04-15T18:57:56.126Z"
   },
   {
    "duration": 7,
    "start_time": "2025-04-15T18:57:56.133Z"
   },
   {
    "duration": 29,
    "start_time": "2025-04-15T18:57:56.142Z"
   },
   {
    "duration": 702,
    "start_time": "2025-04-15T18:57:56.173Z"
   },
   {
    "duration": 20,
    "start_time": "2025-04-15T18:57:56.877Z"
   },
   {
    "duration": 6,
    "start_time": "2025-04-15T18:57:56.899Z"
   },
   {
    "duration": 11,
    "start_time": "2025-04-15T18:57:56.907Z"
   },
   {
    "duration": 9,
    "start_time": "2025-04-15T18:57:56.920Z"
   },
   {
    "duration": 517,
    "start_time": "2025-04-15T18:57:56.932Z"
   },
   {
    "duration": 5,
    "start_time": "2025-04-15T18:57:57.452Z"
   },
   {
    "duration": 507,
    "start_time": "2025-04-15T18:57:57.470Z"
   },
   {
    "duration": 21,
    "start_time": "2025-04-15T18:59:27.154Z"
   },
   {
    "duration": 6,
    "start_time": "2025-04-15T19:00:14.589Z"
   },
   {
    "duration": 123,
    "start_time": "2025-04-16T10:43:14.172Z"
   },
   {
    "duration": 54,
    "start_time": "2025-04-16T11:33:34.161Z"
   },
   {
    "duration": 1577,
    "start_time": "2025-04-16T11:34:04.549Z"
   },
   {
    "duration": 73,
    "start_time": "2025-04-16T11:34:06.128Z"
   },
   {
    "duration": 108,
    "start_time": "2025-04-16T11:34:06.203Z"
   },
   {
    "duration": 245,
    "start_time": "2025-04-16T11:34:06.314Z"
   },
   {
    "duration": 77,
    "start_time": "2025-04-16T11:34:06.562Z"
   },
   {
    "duration": 98,
    "start_time": "2025-04-16T11:34:06.641Z"
   },
   {
    "duration": 39,
    "start_time": "2025-04-16T11:34:06.741Z"
   },
   {
    "duration": 84,
    "start_time": "2025-04-16T11:34:06.782Z"
   },
   {
    "duration": 79,
    "start_time": "2025-04-16T11:34:06.868Z"
   },
   {
    "duration": 251,
    "start_time": "2025-04-16T11:34:06.950Z"
   },
   {
    "duration": 441,
    "start_time": "2025-04-16T11:34:07.203Z"
   },
   {
    "duration": 188,
    "start_time": "2025-04-16T11:34:07.647Z"
   },
   {
    "duration": 240,
    "start_time": "2025-04-16T11:34:07.837Z"
   },
   {
    "duration": 7,
    "start_time": "2025-04-16T11:34:08.079Z"
   },
   {
    "duration": 48,
    "start_time": "2025-04-16T11:34:08.089Z"
   },
   {
    "duration": 64,
    "start_time": "2025-04-16T11:34:08.139Z"
   },
   {
    "duration": 37,
    "start_time": "2025-04-16T11:34:08.205Z"
   },
   {
    "duration": 71,
    "start_time": "2025-04-16T11:34:08.244Z"
   },
   {
    "duration": 121,
    "start_time": "2025-04-16T11:34:08.316Z"
   },
   {
    "duration": 142,
    "start_time": "2025-04-16T11:34:08.440Z"
   },
   {
    "duration": 14,
    "start_time": "2025-04-16T11:34:08.584Z"
   },
   {
    "duration": 94,
    "start_time": "2025-04-16T11:34:08.600Z"
   },
   {
    "duration": 486,
    "start_time": "2025-04-16T11:34:08.697Z"
   },
   {
    "duration": 9,
    "start_time": "2025-04-16T11:34:09.185Z"
   },
   {
    "duration": 417,
    "start_time": "2025-04-16T11:34:09.196Z"
   },
   {
    "duration": 9,
    "start_time": "2025-04-16T11:34:09.615Z"
   },
   {
    "duration": 582,
    "start_time": "2025-04-16T11:34:09.626Z"
   },
   {
    "duration": 21,
    "start_time": "2025-04-16T11:34:10.212Z"
   },
   {
    "duration": 155,
    "start_time": "2025-04-16T11:34:10.235Z"
   },
   {
    "duration": 356,
    "start_time": "2025-04-16T11:34:10.393Z"
   },
   {
    "duration": 861,
    "start_time": "2025-04-16T11:34:10.751Z"
   },
   {
    "duration": 17,
    "start_time": "2025-04-16T11:34:11.614Z"
   },
   {
    "duration": 692,
    "start_time": "2025-04-16T11:34:11.632Z"
   },
   {
    "duration": 39,
    "start_time": "2025-04-16T11:34:12.326Z"
   },
   {
    "duration": 43,
    "start_time": "2025-04-16T11:34:12.367Z"
   },
   {
    "duration": 719,
    "start_time": "2025-04-16T11:34:12.412Z"
   },
   {
    "duration": 712,
    "start_time": "2025-04-16T11:34:13.133Z"
   },
   {
    "duration": 494,
    "start_time": "2025-04-16T11:34:13.846Z"
   },
   {
    "duration": 54,
    "start_time": "2025-04-16T11:34:14.342Z"
   },
   {
    "duration": 6063,
    "start_time": "2025-04-16T11:34:14.399Z"
   },
   {
    "duration": 15,
    "start_time": "2025-04-16T11:34:20.465Z"
   },
   {
    "duration": 111,
    "start_time": "2025-04-16T11:34:20.482Z"
   },
   {
    "duration": 87,
    "start_time": "2025-04-16T11:34:20.595Z"
   },
   {
    "duration": 35,
    "start_time": "2025-04-16T11:34:20.684Z"
   },
   {
    "duration": 672,
    "start_time": "2025-04-16T11:34:20.721Z"
   },
   {
    "duration": 21,
    "start_time": "2025-04-16T11:34:21.396Z"
   },
   {
    "duration": 19,
    "start_time": "2025-04-16T11:34:21.419Z"
   },
   {
    "duration": 23,
    "start_time": "2025-04-16T11:34:21.440Z"
   },
   {
    "duration": 58,
    "start_time": "2025-04-16T11:34:21.465Z"
   },
   {
    "duration": 671,
    "start_time": "2025-04-16T11:34:21.526Z"
   },
   {
    "duration": 5,
    "start_time": "2025-04-16T11:34:22.199Z"
   },
   {
    "duration": 426,
    "start_time": "2025-04-16T11:34:22.206Z"
   },
   {
    "duration": 10,
    "start_time": "2025-04-16T11:35:21.249Z"
   },
   {
    "duration": 1050,
    "start_time": "2025-04-16T11:46:19.208Z"
   },
   {
    "duration": 970,
    "start_time": "2025-04-16T11:47:46.463Z"
   },
   {
    "duration": 705,
    "start_time": "2025-04-16T11:55:17.209Z"
   },
   {
    "duration": 949,
    "start_time": "2025-04-16T12:01:52.486Z"
   },
   {
    "duration": 607,
    "start_time": "2025-04-16T12:06:20.416Z"
   },
   {
    "duration": 735,
    "start_time": "2025-04-16T12:12:41.330Z"
   },
   {
    "duration": 593,
    "start_time": "2025-04-16T12:15:37.368Z"
   },
   {
    "duration": 700,
    "start_time": "2025-04-16T12:15:57.767Z"
   },
   {
    "duration": 724,
    "start_time": "2025-04-16T12:16:17.360Z"
   },
   {
    "duration": 33,
    "start_time": "2025-04-16T12:38:08.188Z"
   },
   {
    "duration": 28,
    "start_time": "2025-04-16T12:40:28.291Z"
   },
   {
    "duration": 7,
    "start_time": "2025-04-16T12:50:17.594Z"
   },
   {
    "duration": 6,
    "start_time": "2025-04-16T13:01:55.761Z"
   },
   {
    "duration": 1320,
    "start_time": "2025-04-16T13:04:19.695Z"
   },
   {
    "duration": 62,
    "start_time": "2025-04-16T13:04:21.017Z"
   },
   {
    "duration": 13,
    "start_time": "2025-04-16T13:04:21.081Z"
   },
   {
    "duration": 13,
    "start_time": "2025-04-16T13:04:21.096Z"
   },
   {
    "duration": 15,
    "start_time": "2025-04-16T13:04:21.111Z"
   },
   {
    "duration": 16,
    "start_time": "2025-04-16T13:04:21.127Z"
   },
   {
    "duration": 9,
    "start_time": "2025-04-16T13:04:21.145Z"
   },
   {
    "duration": 29,
    "start_time": "2025-04-16T13:04:21.155Z"
   },
   {
    "duration": 13,
    "start_time": "2025-04-16T13:04:21.185Z"
   },
   {
    "duration": 26,
    "start_time": "2025-04-16T13:04:21.201Z"
   },
   {
    "duration": 44,
    "start_time": "2025-04-16T13:04:21.229Z"
   },
   {
    "duration": 100,
    "start_time": "2025-04-16T13:04:21.275Z"
   },
   {
    "duration": 37,
    "start_time": "2025-04-16T13:04:21.377Z"
   },
   {
    "duration": 28,
    "start_time": "2025-04-16T13:04:21.417Z"
   },
   {
    "duration": 15,
    "start_time": "2025-04-16T13:04:21.447Z"
   },
   {
    "duration": 13,
    "start_time": "2025-04-16T13:04:21.464Z"
   },
   {
    "duration": 21,
    "start_time": "2025-04-16T13:04:21.478Z"
   },
   {
    "duration": 19,
    "start_time": "2025-04-16T13:04:21.501Z"
   },
   {
    "duration": 21,
    "start_time": "2025-04-16T13:04:21.522Z"
   },
   {
    "duration": 17,
    "start_time": "2025-04-16T13:04:21.545Z"
   },
   {
    "duration": 21,
    "start_time": "2025-04-16T13:04:21.563Z"
   },
   {
    "duration": 35,
    "start_time": "2025-04-16T13:04:21.586Z"
   },
   {
    "duration": 320,
    "start_time": "2025-04-16T13:04:21.622Z"
   },
   {
    "duration": 18,
    "start_time": "2025-04-16T13:04:21.944Z"
   },
   {
    "duration": 253,
    "start_time": "2025-04-16T13:04:21.964Z"
   },
   {
    "duration": 10,
    "start_time": "2025-04-16T13:04:22.219Z"
   },
   {
    "duration": 642,
    "start_time": "2025-04-16T13:04:22.231Z"
   },
   {
    "duration": 0,
    "start_time": "2025-04-16T13:04:22.876Z"
   },
   {
    "duration": 0,
    "start_time": "2025-04-16T13:04:22.877Z"
   },
   {
    "duration": 0,
    "start_time": "2025-04-16T13:04:22.878Z"
   },
   {
    "duration": 0,
    "start_time": "2025-04-16T13:04:22.879Z"
   },
   {
    "duration": 0,
    "start_time": "2025-04-16T13:04:22.880Z"
   },
   {
    "duration": 0,
    "start_time": "2025-04-16T13:04:22.882Z"
   },
   {
    "duration": 0,
    "start_time": "2025-04-16T13:04:22.883Z"
   },
   {
    "duration": 0,
    "start_time": "2025-04-16T13:04:22.884Z"
   },
   {
    "duration": 0,
    "start_time": "2025-04-16T13:04:22.885Z"
   },
   {
    "duration": 0,
    "start_time": "2025-04-16T13:04:22.886Z"
   },
   {
    "duration": 0,
    "start_time": "2025-04-16T13:04:22.887Z"
   },
   {
    "duration": 0,
    "start_time": "2025-04-16T13:04:22.888Z"
   },
   {
    "duration": 0,
    "start_time": "2025-04-16T13:04:22.889Z"
   },
   {
    "duration": 0,
    "start_time": "2025-04-16T13:04:22.890Z"
   },
   {
    "duration": 0,
    "start_time": "2025-04-16T13:04:22.891Z"
   },
   {
    "duration": 0,
    "start_time": "2025-04-16T13:04:22.892Z"
   },
   {
    "duration": 0,
    "start_time": "2025-04-16T13:04:22.893Z"
   },
   {
    "duration": 0,
    "start_time": "2025-04-16T13:04:22.894Z"
   },
   {
    "duration": 0,
    "start_time": "2025-04-16T13:04:22.895Z"
   },
   {
    "duration": 0,
    "start_time": "2025-04-16T13:04:22.896Z"
   },
   {
    "duration": 0,
    "start_time": "2025-04-16T13:04:22.897Z"
   },
   {
    "duration": 0,
    "start_time": "2025-04-16T13:04:22.898Z"
   },
   {
    "duration": 0,
    "start_time": "2025-04-16T13:04:22.899Z"
   },
   {
    "duration": 0,
    "start_time": "2025-04-16T13:04:22.899Z"
   },
   {
    "duration": 0,
    "start_time": "2025-04-16T13:04:22.901Z"
   },
   {
    "duration": 0,
    "start_time": "2025-04-16T13:04:22.903Z"
   },
   {
    "duration": 735,
    "start_time": "2025-04-16T13:08:25.280Z"
   },
   {
    "duration": 1289,
    "start_time": "2025-04-16T13:09:16.909Z"
   },
   {
    "duration": 62,
    "start_time": "2025-04-16T13:09:18.200Z"
   },
   {
    "duration": 13,
    "start_time": "2025-04-16T13:09:18.264Z"
   },
   {
    "duration": 30,
    "start_time": "2025-04-16T13:09:18.279Z"
   },
   {
    "duration": 12,
    "start_time": "2025-04-16T13:09:18.311Z"
   },
   {
    "duration": 19,
    "start_time": "2025-04-16T13:09:18.324Z"
   },
   {
    "duration": 8,
    "start_time": "2025-04-16T13:09:18.344Z"
   },
   {
    "duration": 12,
    "start_time": "2025-04-16T13:09:18.361Z"
   },
   {
    "duration": 21,
    "start_time": "2025-04-16T13:09:18.375Z"
   },
   {
    "duration": 27,
    "start_time": "2025-04-16T13:09:18.398Z"
   },
   {
    "duration": 23,
    "start_time": "2025-04-16T13:09:18.427Z"
   },
   {
    "duration": 16,
    "start_time": "2025-04-16T13:09:18.452Z"
   },
   {
    "duration": 33,
    "start_time": "2025-04-16T13:09:18.470Z"
   },
   {
    "duration": 23,
    "start_time": "2025-04-16T13:09:18.507Z"
   },
   {
    "duration": 28,
    "start_time": "2025-04-16T13:09:18.532Z"
   },
   {
    "duration": 46,
    "start_time": "2025-04-16T13:09:18.562Z"
   },
   {
    "duration": 48,
    "start_time": "2025-04-16T13:09:18.610Z"
   },
   {
    "duration": 12,
    "start_time": "2025-04-16T13:09:18.660Z"
   },
   {
    "duration": 29,
    "start_time": "2025-04-16T13:09:18.674Z"
   },
   {
    "duration": 13,
    "start_time": "2025-04-16T13:09:18.704Z"
   },
   {
    "duration": 17,
    "start_time": "2025-04-16T13:09:18.719Z"
   },
   {
    "duration": 21,
    "start_time": "2025-04-16T13:09:18.737Z"
   },
   {
    "duration": 331,
    "start_time": "2025-04-16T13:09:18.760Z"
   },
   {
    "duration": 8,
    "start_time": "2025-04-16T13:09:19.094Z"
   },
   {
    "duration": 288,
    "start_time": "2025-04-16T13:09:19.104Z"
   },
   {
    "duration": 9,
    "start_time": "2025-04-16T13:09:19.393Z"
   },
   {
    "duration": 708,
    "start_time": "2025-04-16T13:09:19.403Z"
   },
   {
    "duration": 18,
    "start_time": "2025-04-16T13:09:20.113Z"
   },
   {
    "duration": 37,
    "start_time": "2025-04-16T13:09:20.133Z"
   },
   {
    "duration": 3,
    "start_time": "2025-04-16T13:09:20.172Z"
   },
   {
    "duration": 975,
    "start_time": "2025-04-16T13:09:20.177Z"
   },
   {
    "duration": 16,
    "start_time": "2025-04-16T13:09:21.161Z"
   },
   {
    "duration": 999,
    "start_time": "2025-04-16T13:09:21.179Z"
   },
   {
    "duration": 118,
    "start_time": "2025-04-16T13:09:22.180Z"
   },
   {
    "duration": 38,
    "start_time": "2025-04-16T13:09:22.300Z"
   },
   {
    "duration": 613,
    "start_time": "2025-04-16T13:09:22.339Z"
   },
   {
    "duration": 674,
    "start_time": "2025-04-16T13:09:22.954Z"
   },
   {
    "duration": 476,
    "start_time": "2025-04-16T13:09:23.630Z"
   },
   {
    "duration": 57,
    "start_time": "2025-04-16T13:09:24.109Z"
   },
   {
    "duration": 7,
    "start_time": "2025-04-16T13:09:24.168Z"
   },
   {
    "duration": 6051,
    "start_time": "2025-04-16T13:09:24.179Z"
   },
   {
    "duration": 13,
    "start_time": "2025-04-16T13:09:30.231Z"
   },
   {
    "duration": 119,
    "start_time": "2025-04-16T13:09:30.261Z"
   },
   {
    "duration": 399,
    "start_time": "2025-04-16T13:09:30.382Z"
   },
   {
    "duration": 297,
    "start_time": "2025-04-16T13:09:30.783Z"
   },
   {
    "duration": 657,
    "start_time": "2025-04-16T13:09:31.082Z"
   },
   {
    "duration": 24,
    "start_time": "2025-04-16T13:09:31.740Z"
   },
   {
    "duration": 23,
    "start_time": "2025-04-16T13:09:31.765Z"
   },
   {
    "duration": 76,
    "start_time": "2025-04-16T13:09:31.789Z"
   },
   {
    "duration": 9,
    "start_time": "2025-04-16T13:09:31.867Z"
   },
   {
    "duration": 636,
    "start_time": "2025-04-16T13:09:31.878Z"
   },
   {
    "duration": 5,
    "start_time": "2025-04-16T13:09:32.516Z"
   },
   {
    "duration": 459,
    "start_time": "2025-04-16T13:09:32.523Z"
   },
   {
    "duration": 1340,
    "start_time": "2025-04-16T13:21:23.882Z"
   },
   {
    "duration": 64,
    "start_time": "2025-04-16T13:21:25.224Z"
   },
   {
    "duration": 13,
    "start_time": "2025-04-16T13:21:25.290Z"
   },
   {
    "duration": 31,
    "start_time": "2025-04-16T13:21:25.305Z"
   },
   {
    "duration": 15,
    "start_time": "2025-04-16T13:21:25.338Z"
   },
   {
    "duration": 14,
    "start_time": "2025-04-16T13:21:25.355Z"
   },
   {
    "duration": 8,
    "start_time": "2025-04-16T13:21:25.371Z"
   },
   {
    "duration": 14,
    "start_time": "2025-04-16T13:21:25.380Z"
   },
   {
    "duration": 10,
    "start_time": "2025-04-16T13:21:25.396Z"
   },
   {
    "duration": 11,
    "start_time": "2025-04-16T13:21:25.410Z"
   },
   {
    "duration": 11,
    "start_time": "2025-04-16T13:21:25.423Z"
   },
   {
    "duration": 12,
    "start_time": "2025-04-16T13:21:25.460Z"
   },
   {
    "duration": 25,
    "start_time": "2025-04-16T13:21:25.474Z"
   },
   {
    "duration": 24,
    "start_time": "2025-04-16T13:21:25.501Z"
   },
   {
    "duration": 10,
    "start_time": "2025-04-16T13:21:25.527Z"
   },
   {
    "duration": 6,
    "start_time": "2025-04-16T13:21:25.538Z"
   },
   {
    "duration": 7,
    "start_time": "2025-04-16T13:21:25.546Z"
   },
   {
    "duration": 5,
    "start_time": "2025-04-16T13:21:25.561Z"
   },
   {
    "duration": 72,
    "start_time": "2025-04-16T13:21:25.568Z"
   },
   {
    "duration": 39,
    "start_time": "2025-04-16T13:21:25.642Z"
   },
   {
    "duration": 16,
    "start_time": "2025-04-16T13:21:25.683Z"
   },
   {
    "duration": 80,
    "start_time": "2025-04-16T13:21:25.701Z"
   },
   {
    "duration": 382,
    "start_time": "2025-04-16T13:21:25.783Z"
   },
   {
    "duration": 8,
    "start_time": "2025-04-16T13:21:26.167Z"
   },
   {
    "duration": 241,
    "start_time": "2025-04-16T13:21:26.177Z"
   },
   {
    "duration": 8,
    "start_time": "2025-04-16T13:21:26.420Z"
   },
   {
    "duration": 723,
    "start_time": "2025-04-16T13:21:26.462Z"
   },
   {
    "duration": 19,
    "start_time": "2025-04-16T13:21:27.190Z"
   },
   {
    "duration": 20,
    "start_time": "2025-04-16T13:21:27.211Z"
   },
   {
    "duration": 3,
    "start_time": "2025-04-16T13:21:27.260Z"
   },
   {
    "duration": 997,
    "start_time": "2025-04-16T13:21:27.265Z"
   },
   {
    "duration": 17,
    "start_time": "2025-04-16T13:21:28.264Z"
   },
   {
    "duration": 975,
    "start_time": "2025-04-16T13:21:28.283Z"
   },
   {
    "duration": 129,
    "start_time": "2025-04-16T13:21:29.260Z"
   },
   {
    "duration": 33,
    "start_time": "2025-04-16T13:21:29.391Z"
   },
   {
    "duration": 602,
    "start_time": "2025-04-16T13:21:29.426Z"
   },
   {
    "duration": 703,
    "start_time": "2025-04-16T13:21:30.030Z"
   },
   {
    "duration": 476,
    "start_time": "2025-04-16T13:21:30.735Z"
   },
   {
    "duration": 48,
    "start_time": "2025-04-16T13:21:31.213Z"
   },
   {
    "duration": 44,
    "start_time": "2025-04-16T13:21:31.264Z"
   },
   {
    "duration": 6066,
    "start_time": "2025-04-16T13:21:31.310Z"
   },
   {
    "duration": 14,
    "start_time": "2025-04-16T13:21:37.378Z"
   },
   {
    "duration": 33,
    "start_time": "2025-04-16T13:21:37.394Z"
   },
   {
    "duration": 39,
    "start_time": "2025-04-16T13:21:37.428Z"
   },
   {
    "duration": 53,
    "start_time": "2025-04-16T13:21:37.469Z"
   },
   {
    "duration": 657,
    "start_time": "2025-04-16T13:21:37.525Z"
   },
   {
    "duration": 22,
    "start_time": "2025-04-16T13:21:38.184Z"
   },
   {
    "duration": 26,
    "start_time": "2025-04-16T13:21:38.207Z"
   },
   {
    "duration": 44,
    "start_time": "2025-04-16T13:21:38.235Z"
   },
   {
    "duration": 17,
    "start_time": "2025-04-16T13:21:38.281Z"
   },
   {
    "duration": 614,
    "start_time": "2025-04-16T13:21:38.299Z"
   },
   {
    "duration": 4,
    "start_time": "2025-04-16T13:21:38.915Z"
   },
   {
    "duration": 430,
    "start_time": "2025-04-16T13:21:38.921Z"
   },
   {
    "duration": 46,
    "start_time": "2025-04-16T14:34:32.415Z"
   },
   {
    "duration": 1192,
    "start_time": "2025-04-16T14:34:38.068Z"
   },
   {
    "duration": 69,
    "start_time": "2025-04-16T14:34:39.262Z"
   },
   {
    "duration": 11,
    "start_time": "2025-04-16T14:34:39.332Z"
   },
   {
    "duration": 11,
    "start_time": "2025-04-16T14:34:39.345Z"
   },
   {
    "duration": 14,
    "start_time": "2025-04-16T14:34:39.357Z"
   },
   {
    "duration": 20,
    "start_time": "2025-04-16T14:34:39.372Z"
   },
   {
    "duration": 7,
    "start_time": "2025-04-16T14:34:39.394Z"
   },
   {
    "duration": 15,
    "start_time": "2025-04-16T14:34:39.403Z"
   },
   {
    "duration": 8,
    "start_time": "2025-04-16T14:34:39.420Z"
   },
   {
    "duration": 11,
    "start_time": "2025-04-16T14:34:39.431Z"
   },
   {
    "duration": 9,
    "start_time": "2025-04-16T14:34:39.444Z"
   },
   {
    "duration": 15,
    "start_time": "2025-04-16T14:34:39.461Z"
   },
   {
    "duration": 9,
    "start_time": "2025-04-16T14:34:39.477Z"
   },
   {
    "duration": 6,
    "start_time": "2025-04-16T14:34:39.487Z"
   },
   {
    "duration": 13,
    "start_time": "2025-04-16T14:34:39.494Z"
   },
   {
    "duration": 12,
    "start_time": "2025-04-16T14:34:39.508Z"
   },
   {
    "duration": 7,
    "start_time": "2025-04-16T14:34:39.522Z"
   },
   {
    "duration": 5,
    "start_time": "2025-04-16T14:34:39.530Z"
   },
   {
    "duration": 32,
    "start_time": "2025-04-16T14:34:39.536Z"
   },
   {
    "duration": 14,
    "start_time": "2025-04-16T14:34:39.569Z"
   },
   {
    "duration": 13,
    "start_time": "2025-04-16T14:34:39.584Z"
   },
   {
    "duration": 20,
    "start_time": "2025-04-16T14:34:39.598Z"
   },
   {
    "duration": 304,
    "start_time": "2025-04-16T14:34:39.620Z"
   },
   {
    "duration": 9,
    "start_time": "2025-04-16T14:34:39.926Z"
   },
   {
    "duration": 433,
    "start_time": "2025-04-16T14:34:39.937Z"
   },
   {
    "duration": 7,
    "start_time": "2025-04-16T14:34:40.372Z"
   },
   {
    "duration": 1000,
    "start_time": "2025-04-16T14:34:40.381Z"
   },
   {
    "duration": 15,
    "start_time": "2025-04-16T14:34:41.385Z"
   },
   {
    "duration": 68,
    "start_time": "2025-04-16T14:34:41.402Z"
   },
   {
    "duration": 2,
    "start_time": "2025-04-16T14:34:41.472Z"
   },
   {
    "duration": 900,
    "start_time": "2025-04-16T14:34:41.476Z"
   },
   {
    "duration": 14,
    "start_time": "2025-04-16T14:34:42.377Z"
   },
   {
    "duration": 919,
    "start_time": "2025-04-16T14:34:42.392Z"
   },
   {
    "duration": 101,
    "start_time": "2025-04-16T14:34:43.313Z"
   },
   {
    "duration": 26,
    "start_time": "2025-04-16T14:34:43.416Z"
   },
   {
    "duration": 626,
    "start_time": "2025-04-16T14:34:43.463Z"
   },
   {
    "duration": 702,
    "start_time": "2025-04-16T14:34:44.091Z"
   },
   {
    "duration": 417,
    "start_time": "2025-04-16T14:34:44.795Z"
   },
   {
    "duration": 35,
    "start_time": "2025-04-16T14:34:45.213Z"
   },
   {
    "duration": 15,
    "start_time": "2025-04-16T14:34:45.249Z"
   },
   {
    "duration": 5309,
    "start_time": "2025-04-16T14:34:45.266Z"
   },
   {
    "duration": 10,
    "start_time": "2025-04-16T14:34:50.577Z"
   },
   {
    "duration": 48,
    "start_time": "2025-04-16T14:34:50.589Z"
   },
   {
    "duration": 35,
    "start_time": "2025-04-16T14:34:50.638Z"
   },
   {
    "duration": 49,
    "start_time": "2025-04-16T14:34:50.675Z"
   },
   {
    "duration": 519,
    "start_time": "2025-04-16T14:34:50.725Z"
   },
   {
    "duration": 25,
    "start_time": "2025-04-16T14:34:51.245Z"
   },
   {
    "duration": 6,
    "start_time": "2025-04-16T14:34:51.272Z"
   },
   {
    "duration": 7,
    "start_time": "2025-04-16T14:34:51.279Z"
   },
   {
    "duration": 15,
    "start_time": "2025-04-16T14:34:51.287Z"
   },
   {
    "duration": 579,
    "start_time": "2025-04-16T14:34:51.303Z"
   },
   {
    "duration": 4,
    "start_time": "2025-04-16T14:34:51.883Z"
   },
   {
    "duration": 437,
    "start_time": "2025-04-16T14:34:51.888Z"
   }
  ],
  "kernelspec": {
   "display_name": "Python 3 (ipykernel)",
   "language": "python",
   "name": "python3"
  },
  "language_info": {
   "codemirror_mode": {
    "name": "ipython",
    "version": 3
   },
   "file_extension": ".py",
   "mimetype": "text/x-python",
   "name": "python",
   "nbconvert_exporter": "python",
   "pygments_lexer": "ipython3",
   "version": "3.12.3"
  },
  "toc": {
   "base_numbering": 1,
   "nav_menu": {
    "height": "609px",
    "width": "867px"
   },
   "number_sections": true,
   "sideBar": true,
   "skip_h1_title": true,
   "title_cell": "Table of Contents",
   "title_sidebar": "Contents",
   "toc_cell": false,
   "toc_position": {
    "height": "calc(100% - 180px)",
    "left": "10px",
    "top": "150px",
    "width": "499.188px"
   },
   "toc_section_display": true,
   "toc_window_display": true
  }
 },
 "nbformat": 4,
 "nbformat_minor": 5
}
